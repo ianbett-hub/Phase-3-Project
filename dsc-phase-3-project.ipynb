{
 "cells": [
  {
   "cell_type": "markdown",
   "metadata": {},
   "source": [
    "## **PREDICTING CUSTOMER CHURN FOR SYRIATEL: IDENTIFYING PATTERNS TO IMPROVE RETENTION**\n",
    "\n",
    "**Author**: Ian Bett"
   ]
  },
  {
   "cell_type": "markdown",
   "metadata": {},
   "source": [
    "### **Project Overview**  \n",
    "SyriaTel, a telecommunications company, is experiencing a significant loss of valuable customers to competitors. Predicting and understanding customer churn is crucial for evaluating the effectiveness of its marketing strategies and enhancing customer satisfaction. In the telecom industry, customer acquisition and retention are major challenges. As the market rapidly expands, the number of subscribers continues to grow, making customer retention more critical than ever. Service providers must minimize churn rates, as failing to do so can negatively impact profitability. Churn prediction enables companies to identify customers who are most likely to switch to a competitor, allowing for proactive retention strategies."
   ]
  },
  {
   "cell_type": "markdown",
   "metadata": {},
   "source": [
    "### **1. Business Understanding**\n",
    "- **Stakeholder:** SyriaTel's business team.\n",
    "- **Business Problem:** Customer churn leads to revenue loss. Identifying at-risk customers allows the company to implement retention strategies. This project involves predicting customer churn for SyriaTel using a binary classification modeling approach.\n",
    "\n",
    "\n",
    "- **Key Questions:**\n",
    "  - What factors influence churn?\n",
    "  - Which model can predict churn with high accuracy?\n",
    "  - What strategies can Syriatel implement to retain customers and reduce churn rates?"
   ]
  },
  {
   "cell_type": "markdown",
   "metadata": {},
   "source": [
    "### **2. Data Understanding**  \n",
    "\n",
    "The **Churn in Telecom** dataset from Kaggle provides valuable insights into customer behavior and their likelihood of canceling their subscription with a telecom company. The goal of analyzing this dataset is to develop predictive models that can help the company reduce financial losses associated with customer churn.  \n",
    "\n",
    "- **Dataset Overview:** This dataset consists of **3,333 rows** and **21 columns**.  \n",
    "- **Target Variable:** `churn` (binary classification: True/False)  \n",
    "- **Feature Categories:**  \n",
    "  - **Customer Demographics:** `state`, `account length`, `area code`, `phone number`  \n",
    "  - **Service Plans:** `international plan`, `voice mail plan`  \n",
    "  - **Usage Behavior:** `total minutes`, `total calls`, `total charges` across different time periods (day, evening, night, international)  \n",
    "  - **Customer Support Interaction:** `customer service calls`  \n",
    "\n",
    "#### **Summary of all Features in the Dataset**  \n",
    "\n",
    "- **State**: The state where the customer resides.  \n",
    "- **Account Length**: The duration (in days) the customer has maintained their account.  \n",
    "- **Area Code**: The customer's area code.  \n",
    "- **Phone Number**: The customer's phone number.  \n",
    "- **International Plan**: Indicates whether the customer has an international plan (True/False).  \n",
    "- **Voice Mail Plan**: Indicates whether the customer has a voice mail plan (True/False).  \n",
    "- **Number Vmail Messages**: The count of voicemail messages sent by the customer.  \n",
    "- **Total Day Minutes**: The total duration (in minutes) of calls made during the day.  \n",
    "- **Total Day Calls**: The total number of calls made during the day.  \n",
    "- **Total Day Charge**: The total charges incurred for daytime calls.  \n",
    "- **Total Eve Minutes**: The total duration (in minutes) of calls made in the evening.  \n",
    "- **Total Eve Calls**: The total number of calls made in the evening.  \n",
    "- **Total Eve Charge**: The total charges incurred for evening calls.  \n",
    "- **Total Night Minutes**: The total duration (in minutes) of calls made at night.  \n",
    "- **Total Night Calls**: The total number of calls made at night.  \n",
    "- **Total Night Charge**: The total charges incurred for nighttime calls.  \n",
    "- **Total Intl Minutes**: The total duration (in minutes) of international calls.  \n",
    "- **Total Intl Calls**: The total number of international calls made.  \n",
    "- **Total Intl Charge**: The total charges incurred for international calls.  \n",
    "- **Customer Service Calls**: The number of times the customer contacted customer support.  \n",
    "- **Churn**: Indicates whether the customer has canceled their subscription (True/False).  "
   ]
  },
  {
   "cell_type": "markdown",
   "metadata": {},
   "source": [
    "## 3. Data Preparation\n",
    "\n",
    "In this section, I will take several steps to prepare our data for exploratory data analysis and modeling.\n",
    "\n",
    "To start, I import all the required libraries and load the dataset into a pandas DataFrame."
   ]
  },
  {
   "cell_type": "code",
   "execution_count": 1,
   "metadata": {
    "scrolled": true
   },
   "outputs": [],
   "source": [
    "import numpy as np\n",
    "import pandas as pd\n",
    "import matplotlib.pyplot as plt\n",
    "import seaborn as sns\n",
    "\n",
    "from sklearn.model_selection import train_test_split\n",
    "from sklearn.preprocessing import StandardScaler, LabelEncoder\n",
    "from sklearn.linear_model import LogisticRegression\n",
    "from sklearn.tree import DecisionTreeClassifier\n",
    "from sklearn.model_selection import GridSearchCV\n",
    "from sklearn.metrics import accuracy_score, classification_report, roc_curve, auc\n",
    "from sklearn.metrics import precision_score, recall_score, f1_score, roc_auc_score, confusion_matrix, ConfusionMatrixDisplay\n",
    "from imblearn.over_sampling import SMOTE\n",
    "from imblearn.over_sampling import RandomOverSampler\n",
    "from imblearn.under_sampling import RandomUnderSampler\n",
    "from collections import Counter\n",
    "from sklearn.ensemble import RandomForestClassifier"
   ]
  },
  {
   "cell_type": "code",
   "execution_count": 2,
   "metadata": {},
   "outputs": [
    {
     "data": {
      "text/html": [
       "<div>\n",
       "<style scoped>\n",
       "    .dataframe tbody tr th:only-of-type {\n",
       "        vertical-align: middle;\n",
       "    }\n",
       "\n",
       "    .dataframe tbody tr th {\n",
       "        vertical-align: top;\n",
       "    }\n",
       "\n",
       "    .dataframe thead th {\n",
       "        text-align: right;\n",
       "    }\n",
       "</style>\n",
       "<table border=\"1\" class=\"dataframe\">\n",
       "  <thead>\n",
       "    <tr style=\"text-align: right;\">\n",
       "      <th></th>\n",
       "      <th>state</th>\n",
       "      <th>account length</th>\n",
       "      <th>area code</th>\n",
       "      <th>phone number</th>\n",
       "      <th>international plan</th>\n",
       "      <th>voice mail plan</th>\n",
       "      <th>number vmail messages</th>\n",
       "      <th>total day minutes</th>\n",
       "      <th>total day calls</th>\n",
       "      <th>total day charge</th>\n",
       "      <th>...</th>\n",
       "      <th>total eve calls</th>\n",
       "      <th>total eve charge</th>\n",
       "      <th>total night minutes</th>\n",
       "      <th>total night calls</th>\n",
       "      <th>total night charge</th>\n",
       "      <th>total intl minutes</th>\n",
       "      <th>total intl calls</th>\n",
       "      <th>total intl charge</th>\n",
       "      <th>customer service calls</th>\n",
       "      <th>churn</th>\n",
       "    </tr>\n",
       "  </thead>\n",
       "  <tbody>\n",
       "    <tr>\n",
       "      <th>0</th>\n",
       "      <td>KS</td>\n",
       "      <td>128</td>\n",
       "      <td>415</td>\n",
       "      <td>382-4657</td>\n",
       "      <td>no</td>\n",
       "      <td>yes</td>\n",
       "      <td>25</td>\n",
       "      <td>265.1</td>\n",
       "      <td>110</td>\n",
       "      <td>45.07</td>\n",
       "      <td>...</td>\n",
       "      <td>99</td>\n",
       "      <td>16.78</td>\n",
       "      <td>244.7</td>\n",
       "      <td>91</td>\n",
       "      <td>11.01</td>\n",
       "      <td>10.0</td>\n",
       "      <td>3</td>\n",
       "      <td>2.70</td>\n",
       "      <td>1</td>\n",
       "      <td>False</td>\n",
       "    </tr>\n",
       "    <tr>\n",
       "      <th>1</th>\n",
       "      <td>OH</td>\n",
       "      <td>107</td>\n",
       "      <td>415</td>\n",
       "      <td>371-7191</td>\n",
       "      <td>no</td>\n",
       "      <td>yes</td>\n",
       "      <td>26</td>\n",
       "      <td>161.6</td>\n",
       "      <td>123</td>\n",
       "      <td>27.47</td>\n",
       "      <td>...</td>\n",
       "      <td>103</td>\n",
       "      <td>16.62</td>\n",
       "      <td>254.4</td>\n",
       "      <td>103</td>\n",
       "      <td>11.45</td>\n",
       "      <td>13.7</td>\n",
       "      <td>3</td>\n",
       "      <td>3.70</td>\n",
       "      <td>1</td>\n",
       "      <td>False</td>\n",
       "    </tr>\n",
       "    <tr>\n",
       "      <th>2</th>\n",
       "      <td>NJ</td>\n",
       "      <td>137</td>\n",
       "      <td>415</td>\n",
       "      <td>358-1921</td>\n",
       "      <td>no</td>\n",
       "      <td>no</td>\n",
       "      <td>0</td>\n",
       "      <td>243.4</td>\n",
       "      <td>114</td>\n",
       "      <td>41.38</td>\n",
       "      <td>...</td>\n",
       "      <td>110</td>\n",
       "      <td>10.30</td>\n",
       "      <td>162.6</td>\n",
       "      <td>104</td>\n",
       "      <td>7.32</td>\n",
       "      <td>12.2</td>\n",
       "      <td>5</td>\n",
       "      <td>3.29</td>\n",
       "      <td>0</td>\n",
       "      <td>False</td>\n",
       "    </tr>\n",
       "    <tr>\n",
       "      <th>3</th>\n",
       "      <td>OH</td>\n",
       "      <td>84</td>\n",
       "      <td>408</td>\n",
       "      <td>375-9999</td>\n",
       "      <td>yes</td>\n",
       "      <td>no</td>\n",
       "      <td>0</td>\n",
       "      <td>299.4</td>\n",
       "      <td>71</td>\n",
       "      <td>50.90</td>\n",
       "      <td>...</td>\n",
       "      <td>88</td>\n",
       "      <td>5.26</td>\n",
       "      <td>196.9</td>\n",
       "      <td>89</td>\n",
       "      <td>8.86</td>\n",
       "      <td>6.6</td>\n",
       "      <td>7</td>\n",
       "      <td>1.78</td>\n",
       "      <td>2</td>\n",
       "      <td>False</td>\n",
       "    </tr>\n",
       "    <tr>\n",
       "      <th>4</th>\n",
       "      <td>OK</td>\n",
       "      <td>75</td>\n",
       "      <td>415</td>\n",
       "      <td>330-6626</td>\n",
       "      <td>yes</td>\n",
       "      <td>no</td>\n",
       "      <td>0</td>\n",
       "      <td>166.7</td>\n",
       "      <td>113</td>\n",
       "      <td>28.34</td>\n",
       "      <td>...</td>\n",
       "      <td>122</td>\n",
       "      <td>12.61</td>\n",
       "      <td>186.9</td>\n",
       "      <td>121</td>\n",
       "      <td>8.41</td>\n",
       "      <td>10.1</td>\n",
       "      <td>3</td>\n",
       "      <td>2.73</td>\n",
       "      <td>3</td>\n",
       "      <td>False</td>\n",
       "    </tr>\n",
       "    <tr>\n",
       "      <th>...</th>\n",
       "      <td>...</td>\n",
       "      <td>...</td>\n",
       "      <td>...</td>\n",
       "      <td>...</td>\n",
       "      <td>...</td>\n",
       "      <td>...</td>\n",
       "      <td>...</td>\n",
       "      <td>...</td>\n",
       "      <td>...</td>\n",
       "      <td>...</td>\n",
       "      <td>...</td>\n",
       "      <td>...</td>\n",
       "      <td>...</td>\n",
       "      <td>...</td>\n",
       "      <td>...</td>\n",
       "      <td>...</td>\n",
       "      <td>...</td>\n",
       "      <td>...</td>\n",
       "      <td>...</td>\n",
       "      <td>...</td>\n",
       "      <td>...</td>\n",
       "    </tr>\n",
       "    <tr>\n",
       "      <th>3328</th>\n",
       "      <td>AZ</td>\n",
       "      <td>192</td>\n",
       "      <td>415</td>\n",
       "      <td>414-4276</td>\n",
       "      <td>no</td>\n",
       "      <td>yes</td>\n",
       "      <td>36</td>\n",
       "      <td>156.2</td>\n",
       "      <td>77</td>\n",
       "      <td>26.55</td>\n",
       "      <td>...</td>\n",
       "      <td>126</td>\n",
       "      <td>18.32</td>\n",
       "      <td>279.1</td>\n",
       "      <td>83</td>\n",
       "      <td>12.56</td>\n",
       "      <td>9.9</td>\n",
       "      <td>6</td>\n",
       "      <td>2.67</td>\n",
       "      <td>2</td>\n",
       "      <td>False</td>\n",
       "    </tr>\n",
       "    <tr>\n",
       "      <th>3329</th>\n",
       "      <td>WV</td>\n",
       "      <td>68</td>\n",
       "      <td>415</td>\n",
       "      <td>370-3271</td>\n",
       "      <td>no</td>\n",
       "      <td>no</td>\n",
       "      <td>0</td>\n",
       "      <td>231.1</td>\n",
       "      <td>57</td>\n",
       "      <td>39.29</td>\n",
       "      <td>...</td>\n",
       "      <td>55</td>\n",
       "      <td>13.04</td>\n",
       "      <td>191.3</td>\n",
       "      <td>123</td>\n",
       "      <td>8.61</td>\n",
       "      <td>9.6</td>\n",
       "      <td>4</td>\n",
       "      <td>2.59</td>\n",
       "      <td>3</td>\n",
       "      <td>False</td>\n",
       "    </tr>\n",
       "    <tr>\n",
       "      <th>3330</th>\n",
       "      <td>RI</td>\n",
       "      <td>28</td>\n",
       "      <td>510</td>\n",
       "      <td>328-8230</td>\n",
       "      <td>no</td>\n",
       "      <td>no</td>\n",
       "      <td>0</td>\n",
       "      <td>180.8</td>\n",
       "      <td>109</td>\n",
       "      <td>30.74</td>\n",
       "      <td>...</td>\n",
       "      <td>58</td>\n",
       "      <td>24.55</td>\n",
       "      <td>191.9</td>\n",
       "      <td>91</td>\n",
       "      <td>8.64</td>\n",
       "      <td>14.1</td>\n",
       "      <td>6</td>\n",
       "      <td>3.81</td>\n",
       "      <td>2</td>\n",
       "      <td>False</td>\n",
       "    </tr>\n",
       "    <tr>\n",
       "      <th>3331</th>\n",
       "      <td>CT</td>\n",
       "      <td>184</td>\n",
       "      <td>510</td>\n",
       "      <td>364-6381</td>\n",
       "      <td>yes</td>\n",
       "      <td>no</td>\n",
       "      <td>0</td>\n",
       "      <td>213.8</td>\n",
       "      <td>105</td>\n",
       "      <td>36.35</td>\n",
       "      <td>...</td>\n",
       "      <td>84</td>\n",
       "      <td>13.57</td>\n",
       "      <td>139.2</td>\n",
       "      <td>137</td>\n",
       "      <td>6.26</td>\n",
       "      <td>5.0</td>\n",
       "      <td>10</td>\n",
       "      <td>1.35</td>\n",
       "      <td>2</td>\n",
       "      <td>False</td>\n",
       "    </tr>\n",
       "    <tr>\n",
       "      <th>3332</th>\n",
       "      <td>TN</td>\n",
       "      <td>74</td>\n",
       "      <td>415</td>\n",
       "      <td>400-4344</td>\n",
       "      <td>no</td>\n",
       "      <td>yes</td>\n",
       "      <td>25</td>\n",
       "      <td>234.4</td>\n",
       "      <td>113</td>\n",
       "      <td>39.85</td>\n",
       "      <td>...</td>\n",
       "      <td>82</td>\n",
       "      <td>22.60</td>\n",
       "      <td>241.4</td>\n",
       "      <td>77</td>\n",
       "      <td>10.86</td>\n",
       "      <td>13.7</td>\n",
       "      <td>4</td>\n",
       "      <td>3.70</td>\n",
       "      <td>0</td>\n",
       "      <td>False</td>\n",
       "    </tr>\n",
       "  </tbody>\n",
       "</table>\n",
       "<p>3333 rows × 21 columns</p>\n",
       "</div>"
      ],
      "text/plain": [
       "     state  account length  area code phone number international plan  \\\n",
       "0       KS             128        415     382-4657                 no   \n",
       "1       OH             107        415     371-7191                 no   \n",
       "2       NJ             137        415     358-1921                 no   \n",
       "3       OH              84        408     375-9999                yes   \n",
       "4       OK              75        415     330-6626                yes   \n",
       "...    ...             ...        ...          ...                ...   \n",
       "3328    AZ             192        415     414-4276                 no   \n",
       "3329    WV              68        415     370-3271                 no   \n",
       "3330    RI              28        510     328-8230                 no   \n",
       "3331    CT             184        510     364-6381                yes   \n",
       "3332    TN              74        415     400-4344                 no   \n",
       "\n",
       "     voice mail plan  number vmail messages  total day minutes  \\\n",
       "0                yes                     25              265.1   \n",
       "1                yes                     26              161.6   \n",
       "2                 no                      0              243.4   \n",
       "3                 no                      0              299.4   \n",
       "4                 no                      0              166.7   \n",
       "...              ...                    ...                ...   \n",
       "3328             yes                     36              156.2   \n",
       "3329              no                      0              231.1   \n",
       "3330              no                      0              180.8   \n",
       "3331              no                      0              213.8   \n",
       "3332             yes                     25              234.4   \n",
       "\n",
       "      total day calls  total day charge  ...  total eve calls  \\\n",
       "0                 110             45.07  ...               99   \n",
       "1                 123             27.47  ...              103   \n",
       "2                 114             41.38  ...              110   \n",
       "3                  71             50.90  ...               88   \n",
       "4                 113             28.34  ...              122   \n",
       "...               ...               ...  ...              ...   \n",
       "3328               77             26.55  ...              126   \n",
       "3329               57             39.29  ...               55   \n",
       "3330              109             30.74  ...               58   \n",
       "3331              105             36.35  ...               84   \n",
       "3332              113             39.85  ...               82   \n",
       "\n",
       "      total eve charge  total night minutes  total night calls  \\\n",
       "0                16.78                244.7                 91   \n",
       "1                16.62                254.4                103   \n",
       "2                10.30                162.6                104   \n",
       "3                 5.26                196.9                 89   \n",
       "4                12.61                186.9                121   \n",
       "...                ...                  ...                ...   \n",
       "3328             18.32                279.1                 83   \n",
       "3329             13.04                191.3                123   \n",
       "3330             24.55                191.9                 91   \n",
       "3331             13.57                139.2                137   \n",
       "3332             22.60                241.4                 77   \n",
       "\n",
       "      total night charge  total intl minutes  total intl calls  \\\n",
       "0                  11.01                10.0                 3   \n",
       "1                  11.45                13.7                 3   \n",
       "2                   7.32                12.2                 5   \n",
       "3                   8.86                 6.6                 7   \n",
       "4                   8.41                10.1                 3   \n",
       "...                  ...                 ...               ...   \n",
       "3328               12.56                 9.9                 6   \n",
       "3329                8.61                 9.6                 4   \n",
       "3330                8.64                14.1                 6   \n",
       "3331                6.26                 5.0                10   \n",
       "3332               10.86                13.7                 4   \n",
       "\n",
       "      total intl charge  customer service calls  churn  \n",
       "0                  2.70                       1  False  \n",
       "1                  3.70                       1  False  \n",
       "2                  3.29                       0  False  \n",
       "3                  1.78                       2  False  \n",
       "4                  2.73                       3  False  \n",
       "...                 ...                     ...    ...  \n",
       "3328               2.67                       2  False  \n",
       "3329               2.59                       3  False  \n",
       "3330               3.81                       2  False  \n",
       "3331               1.35                       2  False  \n",
       "3332               3.70                       0  False  \n",
       "\n",
       "[3333 rows x 21 columns]"
      ]
     },
     "execution_count": 2,
     "metadata": {},
     "output_type": "execute_result"
    }
   ],
   "source": [
    "# Loading the dataset\n",
    "df = pd.read_csv('Data/bigml_59c28831336c6604c800002a.csv')\n",
    "df"
   ]
  },
  {
   "cell_type": "code",
   "execution_count": 3,
   "metadata": {
    "scrolled": true
   },
   "outputs": [
    {
     "name": "stdout",
     "output_type": "stream",
     "text": [
      "<class 'pandas.core.frame.DataFrame'>\n",
      "RangeIndex: 3333 entries, 0 to 3332\n",
      "Data columns (total 21 columns):\n",
      " #   Column                  Non-Null Count  Dtype  \n",
      "---  ------                  --------------  -----  \n",
      " 0   state                   3333 non-null   object \n",
      " 1   account length          3333 non-null   int64  \n",
      " 2   area code               3333 non-null   int64  \n",
      " 3   phone number            3333 non-null   object \n",
      " 4   international plan      3333 non-null   object \n",
      " 5   voice mail plan         3333 non-null   object \n",
      " 6   number vmail messages   3333 non-null   int64  \n",
      " 7   total day minutes       3333 non-null   float64\n",
      " 8   total day calls         3333 non-null   int64  \n",
      " 9   total day charge        3333 non-null   float64\n",
      " 10  total eve minutes       3333 non-null   float64\n",
      " 11  total eve calls         3333 non-null   int64  \n",
      " 12  total eve charge        3333 non-null   float64\n",
      " 13  total night minutes     3333 non-null   float64\n",
      " 14  total night calls       3333 non-null   int64  \n",
      " 15  total night charge      3333 non-null   float64\n",
      " 16  total intl minutes      3333 non-null   float64\n",
      " 17  total intl calls        3333 non-null   int64  \n",
      " 18  total intl charge       3333 non-null   float64\n",
      " 19  customer service calls  3333 non-null   int64  \n",
      " 20  churn                   3333 non-null   bool   \n",
      "dtypes: bool(1), float64(8), int64(8), object(4)\n",
      "memory usage: 524.2+ KB\n"
     ]
    }
   ],
   "source": [
    "# Checking the information about the DataFrame \n",
    "df.info()"
   ]
  },
  {
   "cell_type": "code",
   "execution_count": 4,
   "metadata": {},
   "outputs": [
    {
     "data": {
      "text/plain": [
       "(3333, 21)"
      ]
     },
     "execution_count": 4,
     "metadata": {},
     "output_type": "execute_result"
    }
   ],
   "source": [
    "#Checking for the number columns and rows \n",
    "df.shape"
   ]
  },
  {
   "cell_type": "code",
   "execution_count": 5,
   "metadata": {},
   "outputs": [
    {
     "data": {
      "text/plain": [
       "state                     0\n",
       "account length            0\n",
       "area code                 0\n",
       "phone number              0\n",
       "international plan        0\n",
       "voice mail plan           0\n",
       "number vmail messages     0\n",
       "total day minutes         0\n",
       "total day calls           0\n",
       "total day charge          0\n",
       "total eve minutes         0\n",
       "total eve calls           0\n",
       "total eve charge          0\n",
       "total night minutes       0\n",
       "total night calls         0\n",
       "total night charge        0\n",
       "total intl minutes        0\n",
       "total intl calls          0\n",
       "total intl charge         0\n",
       "customer service calls    0\n",
       "churn                     0\n",
       "dtype: int64"
      ]
     },
     "execution_count": 5,
     "metadata": {},
     "output_type": "execute_result"
    }
   ],
   "source": [
    "#Checking for missing values in each column\n",
    "df.isna().sum()"
   ]
  },
  {
   "cell_type": "code",
   "execution_count": 6,
   "metadata": {},
   "outputs": [],
   "source": [
    "# Removing whitespaces in the column name and replacing with '_'\n",
    "df.columns = df.columns.str.replace(' ', '_')"
   ]
  },
  {
   "cell_type": "code",
   "execution_count": 7,
   "metadata": {
    "scrolled": false
   },
   "outputs": [
    {
     "name": "stdout",
     "output_type": "stream",
     "text": [
      "Value Counts for 'state':\n",
      "state\n",
      "WV    106\n",
      "MN     84\n",
      "NY     83\n",
      "AL     80\n",
      "WI     78\n",
      "OH     78\n",
      "OR     78\n",
      "WY     77\n",
      "VA     77\n",
      "CT     74\n",
      "MI     73\n",
      "ID     73\n",
      "VT     73\n",
      "TX     72\n",
      "UT     72\n",
      "IN     71\n",
      "MD     70\n",
      "KS     70\n",
      "NC     68\n",
      "NJ     68\n",
      "MT     68\n",
      "CO     66\n",
      "NV     66\n",
      "WA     66\n",
      "RI     65\n",
      "MA     65\n",
      "MS     65\n",
      "AZ     64\n",
      "FL     63\n",
      "MO     63\n",
      "NM     62\n",
      "ME     62\n",
      "ND     62\n",
      "NE     61\n",
      "OK     61\n",
      "DE     61\n",
      "SC     60\n",
      "SD     60\n",
      "KY     59\n",
      "IL     58\n",
      "NH     56\n",
      "AR     55\n",
      "GA     54\n",
      "DC     54\n",
      "HI     53\n",
      "TN     53\n",
      "AK     52\n",
      "LA     51\n",
      "PA     45\n",
      "IA     44\n",
      "CA     34\n",
      "Name: count, dtype: int64\n",
      "----------------------------------------\n",
      "Value Counts for 'account_length':\n",
      "account_length\n",
      "105    43\n",
      "87     42\n",
      "101    40\n",
      "93     40\n",
      "90     39\n",
      "       ..\n",
      "243     1\n",
      "200     1\n",
      "232     1\n",
      "5       1\n",
      "221     1\n",
      "Name: count, Length: 212, dtype: int64\n",
      "----------------------------------------\n",
      "Value Counts for 'area_code':\n",
      "area_code\n",
      "415    1655\n",
      "510     840\n",
      "408     838\n",
      "Name: count, dtype: int64\n",
      "----------------------------------------\n",
      "Value Counts for 'international_plan':\n",
      "international_plan\n",
      "no     3010\n",
      "yes     323\n",
      "Name: count, dtype: int64\n",
      "----------------------------------------\n",
      "Value Counts for 'voice_mail_plan':\n",
      "voice_mail_plan\n",
      "no     2411\n",
      "yes     922\n",
      "Name: count, dtype: int64\n",
      "----------------------------------------\n",
      "Value Counts for 'number_vmail_messages':\n",
      "number_vmail_messages\n",
      "0     2411\n",
      "31      60\n",
      "29      53\n",
      "28      51\n",
      "33      46\n",
      "27      44\n",
      "30      44\n",
      "24      42\n",
      "26      41\n",
      "32      41\n",
      "25      37\n",
      "23      36\n",
      "36      34\n",
      "22      32\n",
      "35      32\n",
      "39      30\n",
      "34      29\n",
      "37      29\n",
      "21      28\n",
      "38      25\n",
      "20      22\n",
      "19      19\n",
      "40      16\n",
      "42      15\n",
      "17      14\n",
      "16      13\n",
      "41      13\n",
      "43       9\n",
      "15       9\n",
      "18       7\n",
      "44       7\n",
      "14       7\n",
      "45       6\n",
      "12       6\n",
      "46       4\n",
      "13       4\n",
      "47       3\n",
      "50       2\n",
      "9        2\n",
      "8        2\n",
      "11       2\n",
      "48       2\n",
      "49       1\n",
      "4        1\n",
      "10       1\n",
      "51       1\n",
      "Name: count, dtype: int64\n",
      "----------------------------------------\n",
      "Value Counts for 'customer_service_calls':\n",
      "customer_service_calls\n",
      "1    1181\n",
      "2     759\n",
      "0     697\n",
      "3     429\n",
      "4     166\n",
      "5      66\n",
      "6      22\n",
      "7       9\n",
      "9       2\n",
      "8       2\n",
      "Name: count, dtype: int64\n",
      "----------------------------------------\n",
      "Value Counts for 'churn':\n",
      "churn\n",
      "False    2850\n",
      "True      483\n",
      "Name: count, dtype: int64\n",
      "----------------------------------------\n"
     ]
    }
   ],
   "source": [
    "# Checking for place holder values\n",
    "cols= ['state', 'account_length', 'area_code', \n",
    "       'international_plan', 'voice_mail_plan', 'number_vmail_messages',\n",
    "       'customer_service_calls', 'churn'] \n",
    "\n",
    "# Loop through selected columns and print value counts\n",
    "for col in cols:\n",
    "    print(f\"Value Counts for '{col}':\")\n",
    "    print(df[col].value_counts())\n",
    "    print(\"-\" * 40) \n"
   ]
  },
  {
   "cell_type": "code",
   "execution_count": 8,
   "metadata": {
    "scrolled": true
   },
   "outputs": [
    {
     "data": {
      "text/html": [
       "<div>\n",
       "<style scoped>\n",
       "    .dataframe tbody tr th:only-of-type {\n",
       "        vertical-align: middle;\n",
       "    }\n",
       "\n",
       "    .dataframe tbody tr th {\n",
       "        vertical-align: top;\n",
       "    }\n",
       "\n",
       "    .dataframe thead th {\n",
       "        text-align: right;\n",
       "    }\n",
       "</style>\n",
       "<table border=\"1\" class=\"dataframe\">\n",
       "  <thead>\n",
       "    <tr style=\"text-align: right;\">\n",
       "      <th></th>\n",
       "      <th>account_length</th>\n",
       "      <th>area_code</th>\n",
       "      <th>number_vmail_messages</th>\n",
       "      <th>total_day_minutes</th>\n",
       "      <th>total_day_calls</th>\n",
       "      <th>total_day_charge</th>\n",
       "      <th>total_eve_minutes</th>\n",
       "      <th>total_eve_calls</th>\n",
       "      <th>total_eve_charge</th>\n",
       "      <th>total_night_minutes</th>\n",
       "      <th>total_night_calls</th>\n",
       "      <th>total_night_charge</th>\n",
       "      <th>total_intl_minutes</th>\n",
       "      <th>total_intl_calls</th>\n",
       "      <th>total_intl_charge</th>\n",
       "      <th>customer_service_calls</th>\n",
       "    </tr>\n",
       "  </thead>\n",
       "  <tbody>\n",
       "    <tr>\n",
       "      <th>count</th>\n",
       "      <td>3333.000000</td>\n",
       "      <td>3333.000000</td>\n",
       "      <td>3333.000000</td>\n",
       "      <td>3333.000000</td>\n",
       "      <td>3333.000000</td>\n",
       "      <td>3333.000000</td>\n",
       "      <td>3333.000000</td>\n",
       "      <td>3333.000000</td>\n",
       "      <td>3333.000000</td>\n",
       "      <td>3333.000000</td>\n",
       "      <td>3333.000000</td>\n",
       "      <td>3333.000000</td>\n",
       "      <td>3333.000000</td>\n",
       "      <td>3333.000000</td>\n",
       "      <td>3333.000000</td>\n",
       "      <td>3333.000000</td>\n",
       "    </tr>\n",
       "    <tr>\n",
       "      <th>mean</th>\n",
       "      <td>101.064806</td>\n",
       "      <td>437.182418</td>\n",
       "      <td>8.099010</td>\n",
       "      <td>179.775098</td>\n",
       "      <td>100.435644</td>\n",
       "      <td>30.562307</td>\n",
       "      <td>200.980348</td>\n",
       "      <td>100.114311</td>\n",
       "      <td>17.083540</td>\n",
       "      <td>200.872037</td>\n",
       "      <td>100.107711</td>\n",
       "      <td>9.039325</td>\n",
       "      <td>10.237294</td>\n",
       "      <td>4.479448</td>\n",
       "      <td>2.764581</td>\n",
       "      <td>1.562856</td>\n",
       "    </tr>\n",
       "    <tr>\n",
       "      <th>std</th>\n",
       "      <td>39.822106</td>\n",
       "      <td>42.371290</td>\n",
       "      <td>13.688365</td>\n",
       "      <td>54.467389</td>\n",
       "      <td>20.069084</td>\n",
       "      <td>9.259435</td>\n",
       "      <td>50.713844</td>\n",
       "      <td>19.922625</td>\n",
       "      <td>4.310668</td>\n",
       "      <td>50.573847</td>\n",
       "      <td>19.568609</td>\n",
       "      <td>2.275873</td>\n",
       "      <td>2.791840</td>\n",
       "      <td>2.461214</td>\n",
       "      <td>0.753773</td>\n",
       "      <td>1.315491</td>\n",
       "    </tr>\n",
       "    <tr>\n",
       "      <th>min</th>\n",
       "      <td>1.000000</td>\n",
       "      <td>408.000000</td>\n",
       "      <td>0.000000</td>\n",
       "      <td>0.000000</td>\n",
       "      <td>0.000000</td>\n",
       "      <td>0.000000</td>\n",
       "      <td>0.000000</td>\n",
       "      <td>0.000000</td>\n",
       "      <td>0.000000</td>\n",
       "      <td>23.200000</td>\n",
       "      <td>33.000000</td>\n",
       "      <td>1.040000</td>\n",
       "      <td>0.000000</td>\n",
       "      <td>0.000000</td>\n",
       "      <td>0.000000</td>\n",
       "      <td>0.000000</td>\n",
       "    </tr>\n",
       "    <tr>\n",
       "      <th>25%</th>\n",
       "      <td>74.000000</td>\n",
       "      <td>408.000000</td>\n",
       "      <td>0.000000</td>\n",
       "      <td>143.700000</td>\n",
       "      <td>87.000000</td>\n",
       "      <td>24.430000</td>\n",
       "      <td>166.600000</td>\n",
       "      <td>87.000000</td>\n",
       "      <td>14.160000</td>\n",
       "      <td>167.000000</td>\n",
       "      <td>87.000000</td>\n",
       "      <td>7.520000</td>\n",
       "      <td>8.500000</td>\n",
       "      <td>3.000000</td>\n",
       "      <td>2.300000</td>\n",
       "      <td>1.000000</td>\n",
       "    </tr>\n",
       "    <tr>\n",
       "      <th>50%</th>\n",
       "      <td>101.000000</td>\n",
       "      <td>415.000000</td>\n",
       "      <td>0.000000</td>\n",
       "      <td>179.400000</td>\n",
       "      <td>101.000000</td>\n",
       "      <td>30.500000</td>\n",
       "      <td>201.400000</td>\n",
       "      <td>100.000000</td>\n",
       "      <td>17.120000</td>\n",
       "      <td>201.200000</td>\n",
       "      <td>100.000000</td>\n",
       "      <td>9.050000</td>\n",
       "      <td>10.300000</td>\n",
       "      <td>4.000000</td>\n",
       "      <td>2.780000</td>\n",
       "      <td>1.000000</td>\n",
       "    </tr>\n",
       "    <tr>\n",
       "      <th>75%</th>\n",
       "      <td>127.000000</td>\n",
       "      <td>510.000000</td>\n",
       "      <td>20.000000</td>\n",
       "      <td>216.400000</td>\n",
       "      <td>114.000000</td>\n",
       "      <td>36.790000</td>\n",
       "      <td>235.300000</td>\n",
       "      <td>114.000000</td>\n",
       "      <td>20.000000</td>\n",
       "      <td>235.300000</td>\n",
       "      <td>113.000000</td>\n",
       "      <td>10.590000</td>\n",
       "      <td>12.100000</td>\n",
       "      <td>6.000000</td>\n",
       "      <td>3.270000</td>\n",
       "      <td>2.000000</td>\n",
       "    </tr>\n",
       "    <tr>\n",
       "      <th>max</th>\n",
       "      <td>243.000000</td>\n",
       "      <td>510.000000</td>\n",
       "      <td>51.000000</td>\n",
       "      <td>350.800000</td>\n",
       "      <td>165.000000</td>\n",
       "      <td>59.640000</td>\n",
       "      <td>363.700000</td>\n",
       "      <td>170.000000</td>\n",
       "      <td>30.910000</td>\n",
       "      <td>395.000000</td>\n",
       "      <td>175.000000</td>\n",
       "      <td>17.770000</td>\n",
       "      <td>20.000000</td>\n",
       "      <td>20.000000</td>\n",
       "      <td>5.400000</td>\n",
       "      <td>9.000000</td>\n",
       "    </tr>\n",
       "  </tbody>\n",
       "</table>\n",
       "</div>"
      ],
      "text/plain": [
       "       account_length    area_code  number_vmail_messages  total_day_minutes  \\\n",
       "count     3333.000000  3333.000000            3333.000000        3333.000000   \n",
       "mean       101.064806   437.182418               8.099010         179.775098   \n",
       "std         39.822106    42.371290              13.688365          54.467389   \n",
       "min          1.000000   408.000000               0.000000           0.000000   \n",
       "25%         74.000000   408.000000               0.000000         143.700000   \n",
       "50%        101.000000   415.000000               0.000000         179.400000   \n",
       "75%        127.000000   510.000000              20.000000         216.400000   \n",
       "max        243.000000   510.000000              51.000000         350.800000   \n",
       "\n",
       "       total_day_calls  total_day_charge  total_eve_minutes  total_eve_calls  \\\n",
       "count      3333.000000       3333.000000        3333.000000      3333.000000   \n",
       "mean        100.435644         30.562307         200.980348       100.114311   \n",
       "std          20.069084          9.259435          50.713844        19.922625   \n",
       "min           0.000000          0.000000           0.000000         0.000000   \n",
       "25%          87.000000         24.430000         166.600000        87.000000   \n",
       "50%         101.000000         30.500000         201.400000       100.000000   \n",
       "75%         114.000000         36.790000         235.300000       114.000000   \n",
       "max         165.000000         59.640000         363.700000       170.000000   \n",
       "\n",
       "       total_eve_charge  total_night_minutes  total_night_calls  \\\n",
       "count       3333.000000          3333.000000        3333.000000   \n",
       "mean          17.083540           200.872037         100.107711   \n",
       "std            4.310668            50.573847          19.568609   \n",
       "min            0.000000            23.200000          33.000000   \n",
       "25%           14.160000           167.000000          87.000000   \n",
       "50%           17.120000           201.200000         100.000000   \n",
       "75%           20.000000           235.300000         113.000000   \n",
       "max           30.910000           395.000000         175.000000   \n",
       "\n",
       "       total_night_charge  total_intl_minutes  total_intl_calls  \\\n",
       "count         3333.000000         3333.000000       3333.000000   \n",
       "mean             9.039325           10.237294          4.479448   \n",
       "std              2.275873            2.791840          2.461214   \n",
       "min              1.040000            0.000000          0.000000   \n",
       "25%              7.520000            8.500000          3.000000   \n",
       "50%              9.050000           10.300000          4.000000   \n",
       "75%             10.590000           12.100000          6.000000   \n",
       "max             17.770000           20.000000         20.000000   \n",
       "\n",
       "       total_intl_charge  customer_service_calls  \n",
       "count        3333.000000             3333.000000  \n",
       "mean            2.764581                1.562856  \n",
       "std             0.753773                1.315491  \n",
       "min             0.000000                0.000000  \n",
       "25%             2.300000                1.000000  \n",
       "50%             2.780000                1.000000  \n",
       "75%             3.270000                2.000000  \n",
       "max             5.400000                9.000000  "
      ]
     },
     "execution_count": 8,
     "metadata": {},
     "output_type": "execute_result"
    }
   ],
   "source": [
    "# Checking Summary Statistics for numerical columns\n",
    "df.describe()"
   ]
  },
  {
   "cell_type": "markdown",
   "metadata": {},
   "source": [
    "## Numerical feature analysis\n",
    "- Here we'll anaylze numerical features variables simultaneously. In this case, we explore the relationship between numerical continous features to know if there is any multicollinearity amongest them.\n",
    "\n",
    "- I used a correlation matrix to identify the correlation between them."
   ]
  },
  {
   "cell_type": "code",
   "execution_count": 9,
   "metadata": {
    "scrolled": false
   },
   "outputs": [
    {
     "data": {
      "image/png": "[encoded data removed]",
      "text/plain": [
       "<Figure size 720x576 with 2 Axes>"
      ]
     },
     "metadata": {
      "needs_background": "light"
     },
     "output_type": "display_data"
    }
   ],
   "source": [
    "# Selecting numerical columns for correlation\n",
    "nums = ['total_day_minutes', 'total_day_calls', 'total_day_charge', 'total_eve_minutes', 'total_eve_calls', \n",
    "        'total_eve_charge', 'total_night_minutes', 'total_night_calls', 'total_night_charge',\n",
    "        'total_intl_minutes', 'total_intl_calls', 'total_intl_charge']\n",
    "# Compute correlation matrix\n",
    "correlation_matrix = df[nums].corr()\n",
    "\n",
    "\n",
    "# Plot heatmap\n",
    "plt.figure(figsize=(10, 8))\n",
    "sns.heatmap(correlation_matrix, annot=True, cmap='coolwarm', fmt='.2f', linewidths=0.5)\n",
    "plt.title('Correlation Heatmap')\n",
    "plt.show()"
   ]
  },
  {
   "cell_type": "markdown",
   "metadata": {},
   "source": [
    "From the correlation matrix heat map, columns that are highly correlated (close to 1) and redundant include:\n",
    "\n",
    "1. **`total day minutes` and `total day charge`** \n",
    "2. **`total eve minutes` and `total eve charge`** \n",
    "3. **`total night minutes` and `total night charge`** \n",
    "4. **`total intl minutes` and `total intl charge`** \n",
    "\n",
    "We'll drop minutes columns in order to prevent multicollinearity amongest those features\n"
   ]
  },
  {
   "cell_type": "code",
   "execution_count": 10,
   "metadata": {},
   "outputs": [
    {
     "name": "stdout",
     "output_type": "stream",
     "text": [
      "<class 'pandas.core.frame.DataFrame'>\n",
      "RangeIndex: 3333 entries, 0 to 3332\n",
      "Data columns (total 17 columns):\n",
      " #   Column                  Non-Null Count  Dtype  \n",
      "---  ------                  --------------  -----  \n",
      " 0   state                   3333 non-null   object \n",
      " 1   account_length          3333 non-null   int64  \n",
      " 2   area_code               3333 non-null   int64  \n",
      " 3   phone_number            3333 non-null   object \n",
      " 4   international_plan      3333 non-null   object \n",
      " 5   voice_mail_plan         3333 non-null   object \n",
      " 6   number_vmail_messages   3333 non-null   int64  \n",
      " 7   total_day_calls         3333 non-null   int64  \n",
      " 8   total_day_charge        3333 non-null   float64\n",
      " 9   total_eve_calls         3333 non-null   int64  \n",
      " 10  total_eve_charge        3333 non-null   float64\n",
      " 11  total_night_calls       3333 non-null   int64  \n",
      " 12  total_night_charge      3333 non-null   float64\n",
      " 13  total_intl_calls        3333 non-null   int64  \n",
      " 14  total_intl_charge       3333 non-null   float64\n",
      " 15  customer_service_calls  3333 non-null   int64  \n",
      " 16  churn                   3333 non-null   bool   \n",
      "dtypes: bool(1), float64(4), int64(8), object(4)\n",
      "memory usage: 420.0+ KB\n"
     ]
    }
   ],
   "source": [
    "df = df.drop(columns=['total_day_minutes', 'total_eve_minutes', 'total_night_minutes', 'total_intl_minutes'])\n",
    "df.info()"
   ]
  },
  {
   "cell_type": "code",
   "execution_count": 11,
   "metadata": {
    "scrolled": true
   },
   "outputs": [
    {
     "data": {
      "text/plain": [
       "state                       51\n",
       "account_length             212\n",
       "area_code                    3\n",
       "phone_number              3333\n",
       "international_plan           2\n",
       "voice_mail_plan              2\n",
       "number_vmail_messages       46\n",
       "total_day_calls            119\n",
       "total_day_charge          1667\n",
       "total_eve_calls            123\n",
       "total_eve_charge          1440\n",
       "total_night_calls          120\n",
       "total_night_charge         933\n",
       "total_intl_calls            21\n",
       "total_intl_charge          162\n",
       "customer_service_calls      10\n",
       "churn                        2\n",
       "dtype: int64"
      ]
     },
     "execution_count": 11,
     "metadata": {},
     "output_type": "execute_result"
    }
   ],
   "source": [
    "#Checking the count of unique values in each column\n",
    "df.nunique()"
   ]
  },
  {
   "cell_type": "markdown",
   "metadata": {},
   "source": [
    "### Churn Distribution - Bar Chart\n",
    "\n",
    "- This is an imbalanced dataset which needs to be addressed before modeling it can cause the model to make false predictions."
   ]
  },
  {
   "cell_type": "code",
   "execution_count": 12,
   "metadata": {
    "scrolled": true
   },
   "outputs": [
    {
     "data": {
      "image/png": "[encoded data removed]",
      "text/plain": [
       "<Figure size 432x288 with 1 Axes>"
      ]
     },
     "metadata": {
      "needs_background": "light"
     },
     "output_type": "display_data"
    }
   ],
   "source": [
    "plt.figure(figsize=(6, 4))\n",
    "sns.countplot(x='churn', data=df, palette=['blue', 'red'])\n",
    "plt.title('Churn Distribution')\n",
    "plt.xlabel('Churn (0 = No, 1 = Yes)')\n",
    "plt.ylabel('Count')\n",
    "plt.xticks(ticks=[0, 1], labels=['No', 'Yes'])\n",
    "plt.show()"
   ]
  },
  {
   "cell_type": "markdown",
   "metadata": {},
   "source": [
    "## Box plot showning Numerical columns churn count"
   ]
  },
  {
   "cell_type": "code",
   "execution_count": 13,
   "metadata": {},
   "outputs": [
    {
     "data": {
      "image/png": "[encoded data removed]",
      "text/plain": [
       "<Figure size 720x432 with 1 Axes>"
      ]
     },
     "metadata": {
      "needs_background": "light"
     },
     "output_type": "display_data"
    },
    {
     "data": {
      "image/png": "[encoded data removed]",
      "text/plain": [
       "<Figure size 720x432 with 1 Axes>"
      ]
     },
     "metadata": {
      "needs_background": "light"
     },
     "output_type": "display_data"
    },
    {
     "data": {
      "image/png": "[encoded data removed]",
      "text/plain": [
       "<Figure size 720x432 with 1 Axes>"
      ]
     },
     "metadata": {
      "needs_background": "light"
     },
     "output_type": "display_data"
    },
    {
     "data": {
      "image/png": "[encoded data removed]",
      "text/plain": [
       "<Figure size 720x432 with 1 Axes>"
      ]
     },
     "metadata": {
      "needs_background": "light"
     },
     "output_type": "display_data"
    },
    {
     "data": {
      "image/png": "[encoded data removed]",
      "text/plain": [
       "<Figure size 720x432 with 1 Axes>"
      ]
     },
     "metadata": {
      "needs_background": "light"
     },
     "output_type": "display_data"
    },
    {
     "data": {
      "image/png": "[encoded data removed]",
      "text/plain": [
       "<Figure size 720x432 with 1 Axes>"
      ]
     },
     "metadata": {
      "needs_background": "light"
     },
     "output_type": "display_data"
    },
    {
     "data": {
      "image/png": "[encoded data removed]",
      "text/plain": [
       "<Figure size 720x432 with 1 Axes>"
      ]
     },
     "metadata": {
      "needs_background": "light"
     },
     "output_type": "display_data"
    },
    {
     "data": {
      "image/png": "[encoded data removed]",
      "text/plain": [
       "<Figure size 720x432 with 1 Axes>"
      ]
     },
     "metadata": {
      "needs_background": "light"
     },
     "output_type": "display_data"
    },
    {
     "data": {
      "image/png": "[encoded data removed]",
      "text/plain": [
       "<Figure size 720x432 with 1 Axes>"
      ]
     },
     "metadata": {
      "needs_background": "light"
     },
     "output_type": "display_data"
    },
    {
     "data": {
      "image/png": "[encoded data removed]",
      "text/plain": [
       "<Figure size 720x432 with 1 Axes>"
      ]
     },
     "metadata": {
      "needs_background": "light"
     },
     "output_type": "display_data"
    },
    {
     "data": {
      "image/png": "[encoded data removed]",
      "text/plain": [
       "<Figure size 720x432 with 1 Axes>"
      ]
     },
     "metadata": {
      "needs_background": "light"
     },
     "output_type": "display_data"
    }
   ],
   "source": [
    "# Select numerical columns (excluding 'churn' if it's numerical)\n",
    "numeric_cols = [\"account_length\", \"number_vmail_messages\", \"total_day_calls\", \"total_day_charge\", \n",
    "                \"total_eve_calls\", \"total_eve_charge\", \"total_night_calls\", \"total_night_charge\", \n",
    "                \"total_intl_calls\", \"total_intl_charge\", \"customer_service_calls\"]\n",
    "\n",
    "# Loop through numerical columns and plot box plots\n",
    "for col in numeric_cols:\n",
    "    plt.figure(figsize=(10, 6))\n",
    "    sns.boxplot(data=df, x=\"churn\", y=col, palette=\"coolwarm\")\n",
    "    plt.xlabel(\"Churn\")\n",
    "    plt.ylabel(col.replace(\"_\", \" \").title())\n",
    "    plt.title(f\"Box Plot of {col.replace('_', ' ').title()} by Churn\")\n",
    "    plt.xticks([0, 1], [\"No\", \"Yes\"])\n",
    "    plt.show()\n"
   ]
  },
  {
   "cell_type": "markdown",
   "metadata": {},
   "source": [
    "## Churn Count by International Plan "
   ]
  },
  {
   "cell_type": "code",
   "execution_count": 14,
   "metadata": {
    "scrolled": false
   },
   "outputs": [
    {
     "data": {
      "text/plain": [
       "<Figure size 864x360 with 0 Axes>"
      ]
     },
     "metadata": {},
     "output_type": "display_data"
    },
    {
     "data": {
      "image/png": "[encoded data removed]",
      "text/plain": [
       "<Figure size 864x360 with 1 Axes>"
      ]
     },
     "metadata": {
      "needs_background": "light"
     },
     "output_type": "display_data"
    }
   ],
   "source": [
    "# Grouping by International Plan\n",
    "churn_by_international_plan = df.groupby(['international_plan', 'churn']).size().unstack()\n",
    "\n",
    "# Plot for International Plan\n",
    "plt.figure(figsize=(12, 5))\n",
    "churn_by_international_plan.plot(kind='bar', figsize=(12, 5))\n",
    "plt.xlabel(\"International Plan\")\n",
    "plt.ylabel(\"Number of Customers\")\n",
    "plt.title(\"Churn Count by International Plan (Yes/No)\")\n",
    "plt.legend(title=\"Churn\", labels=[\"No\", \"Yes\"])\n",
    "plt.xticks(rotation=0)\n",
    "plt.show()\n"
   ]
  },
  {
   "cell_type": "markdown",
   "metadata": {},
   "source": [
    "## Key findings\n",
    "\n",
    "- The majority of retained customers do not have an international plan.  \n",
    "\n",
    "- Among customers with an international plan, those who churn are fewer than those who remain."
   ]
  },
  {
   "cell_type": "markdown",
   "metadata": {},
   "source": [
    "## Churn Count by Voice Mail Plan "
   ]
  },
  {
   "cell_type": "code",
   "execution_count": 15,
   "metadata": {
    "scrolled": true
   },
   "outputs": [
    {
     "data": {
      "text/plain": [
       "<Figure size 864x360 with 0 Axes>"
      ]
     },
     "metadata": {},
     "output_type": "display_data"
    },
    {
     "data": {
      "image/png": "[encoded data removed]",
      "text/plain": [
       "<Figure size 864x360 with 1 Axes>"
      ]
     },
     "metadata": {
      "needs_background": "light"
     },
     "output_type": "display_data"
    }
   ],
   "source": [
    "# Grouping by Voice Mail Plan\n",
    "churn_by_voice_mail_plan = df.groupby(['voice_mail_plan', 'churn']).size().unstack()\n",
    "\n",
    "\n",
    "\n",
    "# Plot for Voice Mail Plan\n",
    "plt.figure(figsize=(12, 5))\n",
    "churn_by_voice_mail_plan.plot(kind='bar', figsize=(12, 5))\n",
    "plt.xlabel(\"Voice Mail Plan\")\n",
    "plt.ylabel(\"Number of Customers\")\n",
    "plt.title(\"Churn Count by Voice Mail Plan (Yes/No)\")\n",
    "plt.legend(title=\"Churn\", labels=[\"No\", \"Yes\"])\n",
    "plt.xticks(rotation=0)\n",
    "plt.show()\n"
   ]
  },
  {
   "cell_type": "markdown",
   "metadata": {},
   "source": [
    "## Key findings\n",
    "\n",
    "- The majority of retained customers do not have an voicemail plan.  \n",
    "\n",
    "- Among customers with an Voicemail plan, those who churn are fewer than those who remain."
   ]
  },
  {
   "cell_type": "markdown",
   "metadata": {},
   "source": [
    "## Churn by Area code"
   ]
  },
  {
   "cell_type": "code",
   "execution_count": 16,
   "metadata": {
    "scrolled": true
   },
   "outputs": [
    {
     "data": {
      "text/plain": [
       "<Figure size 1080x432 with 0 Axes>"
      ]
     },
     "metadata": {},
     "output_type": "display_data"
    },
    {
     "data": {
      "image/png": "[encoded data removed]",
      "text/plain": [
       "<Figure size 1080x432 with 1 Axes>"
      ]
     },
     "metadata": {
      "needs_background": "light"
     },
     "output_type": "display_data"
    }
   ],
   "source": [
    "# Grouping by Area Code\n",
    "churn_by_area_code = df.groupby(['area_code', 'churn']).size().unstack()\n",
    "\n",
    "# Plot\n",
    "plt.figure(figsize=(15, 6))\n",
    "churn_by_area_code.plot(kind='bar', figsize=(15, 6))\n",
    "plt.xlabel(\"Area Code\")\n",
    "plt.ylabel(\"Number of Customers\")\n",
    "plt.title(\"Churn Count by Area Code (Yes/No)\")\n",
    "plt.legend(title=\"Churn\", labels=[\"No\", \"Yes\"])\n",
    "plt.xticks(rotation=90)\n",
    "plt.show()"
   ]
  },
  {
   "cell_type": "markdown",
   "metadata": {},
   "source": [
    "## Dropping irrelevant columns\n",
    "\n",
    "- Dropping **`state`**, **`area_code`**, and **`phone_number`** is a necessary step because these columns do not contribute meaningful patterns or predictions. This ensures the model focuses on the most relevant features for predicting customer churn."
   ]
  },
  {
   "cell_type": "code",
   "execution_count": 17,
   "metadata": {
    "scrolled": true
   },
   "outputs": [
    {
     "data": {
      "text/plain": [
       "Index(['account_length', 'international_plan', 'voice_mail_plan',\n",
       "       'number_vmail_messages', 'total_day_calls', 'total_day_charge',\n",
       "       'total_eve_calls', 'total_eve_charge', 'total_night_calls',\n",
       "       'total_night_charge', 'total_intl_calls', 'total_intl_charge',\n",
       "       'customer_service_calls', 'churn'],\n",
       "      dtype='object')"
      ]
     },
     "execution_count": 17,
     "metadata": {},
     "output_type": "execute_result"
    }
   ],
   "source": [
    "# Drop irrelevant columns\n",
    "df = df.drop(columns=['state','area_code', 'phone_number'], axis=1)\n",
    "df.columns"
   ]
  },
  {
   "cell_type": "markdown",
   "metadata": {},
   "source": [
    "## Label Encoding\n",
    "- Transforming categorical features into 0 and 1 to be able to use them in classification models."
   ]
  },
  {
   "cell_type": "code",
   "execution_count": 18,
   "metadata": {
    "scrolled": true
   },
   "outputs": [
    {
     "data": {
      "text/html": [
       "<div>\n",
       "<style scoped>\n",
       "    .dataframe tbody tr th:only-of-type {\n",
       "        vertical-align: middle;\n",
       "    }\n",
       "\n",
       "    .dataframe tbody tr th {\n",
       "        vertical-align: top;\n",
       "    }\n",
       "\n",
       "    .dataframe thead th {\n",
       "        text-align: right;\n",
       "    }\n",
       "</style>\n",
       "<table border=\"1\" class=\"dataframe\">\n",
       "  <thead>\n",
       "    <tr style=\"text-align: right;\">\n",
       "      <th></th>\n",
       "      <th>churn</th>\n",
       "    </tr>\n",
       "  </thead>\n",
       "  <tbody>\n",
       "    <tr>\n",
       "      <th>0</th>\n",
       "      <td>0</td>\n",
       "    </tr>\n",
       "    <tr>\n",
       "      <th>1</th>\n",
       "      <td>0</td>\n",
       "    </tr>\n",
       "    <tr>\n",
       "      <th>2</th>\n",
       "      <td>0</td>\n",
       "    </tr>\n",
       "    <tr>\n",
       "      <th>3</th>\n",
       "      <td>0</td>\n",
       "    </tr>\n",
       "    <tr>\n",
       "      <th>4</th>\n",
       "      <td>0</td>\n",
       "    </tr>\n",
       "    <tr>\n",
       "      <th>...</th>\n",
       "      <td>...</td>\n",
       "    </tr>\n",
       "    <tr>\n",
       "      <th>3328</th>\n",
       "      <td>0</td>\n",
       "    </tr>\n",
       "    <tr>\n",
       "      <th>3329</th>\n",
       "      <td>0</td>\n",
       "    </tr>\n",
       "    <tr>\n",
       "      <th>3330</th>\n",
       "      <td>0</td>\n",
       "    </tr>\n",
       "    <tr>\n",
       "      <th>3331</th>\n",
       "      <td>0</td>\n",
       "    </tr>\n",
       "    <tr>\n",
       "      <th>3332</th>\n",
       "      <td>0</td>\n",
       "    </tr>\n",
       "  </tbody>\n",
       "</table>\n",
       "<p>3333 rows × 1 columns</p>\n",
       "</div>"
      ],
      "text/plain": [
       "      churn\n",
       "0         0\n",
       "1         0\n",
       "2         0\n",
       "3         0\n",
       "4         0\n",
       "...     ...\n",
       "3328      0\n",
       "3329      0\n",
       "3330      0\n",
       "3331      0\n",
       "3332      0\n",
       "\n",
       "[3333 rows x 1 columns]"
      ]
     },
     "execution_count": 18,
     "metadata": {},
     "output_type": "execute_result"
    }
   ],
   "source": [
    "# Making a copy of the data frame\n",
    "df1 = df.copy()\n",
    "\n",
    "# Convert 'churn' to numerical\n",
    "le = LabelEncoder()\n",
    "df1['churn'] = le.fit_transform(df1['churn'])  # 1 for churned, 0 for No Churn\n",
    "df1[['churn']]"
   ]
  },
  {
   "cell_type": "code",
   "execution_count": 19,
   "metadata": {
    "scrolled": true
   },
   "outputs": [
    {
     "data": {
      "text/html": [
       "<div>\n",
       "<style scoped>\n",
       "    .dataframe tbody tr th:only-of-type {\n",
       "        vertical-align: middle;\n",
       "    }\n",
       "\n",
       "    .dataframe tbody tr th {\n",
       "        vertical-align: top;\n",
       "    }\n",
       "\n",
       "    .dataframe thead th {\n",
       "        text-align: right;\n",
       "    }\n",
       "</style>\n",
       "<table border=\"1\" class=\"dataframe\">\n",
       "  <thead>\n",
       "    <tr style=\"text-align: right;\">\n",
       "      <th></th>\n",
       "      <th>account_length</th>\n",
       "      <th>international_plan</th>\n",
       "      <th>voice_mail_plan</th>\n",
       "      <th>number_vmail_messages</th>\n",
       "      <th>total_day_calls</th>\n",
       "      <th>total_day_charge</th>\n",
       "      <th>total_eve_calls</th>\n",
       "      <th>total_eve_charge</th>\n",
       "      <th>total_night_calls</th>\n",
       "      <th>total_night_charge</th>\n",
       "      <th>total_intl_calls</th>\n",
       "      <th>total_intl_charge</th>\n",
       "      <th>customer_service_calls</th>\n",
       "      <th>churn</th>\n",
       "    </tr>\n",
       "  </thead>\n",
       "  <tbody>\n",
       "    <tr>\n",
       "      <th>0</th>\n",
       "      <td>128</td>\n",
       "      <td>0</td>\n",
       "      <td>1</td>\n",
       "      <td>25</td>\n",
       "      <td>110</td>\n",
       "      <td>45.07</td>\n",
       "      <td>99</td>\n",
       "      <td>16.78</td>\n",
       "      <td>91</td>\n",
       "      <td>11.01</td>\n",
       "      <td>3</td>\n",
       "      <td>2.70</td>\n",
       "      <td>1</td>\n",
       "      <td>0</td>\n",
       "    </tr>\n",
       "    <tr>\n",
       "      <th>1</th>\n",
       "      <td>107</td>\n",
       "      <td>0</td>\n",
       "      <td>1</td>\n",
       "      <td>26</td>\n",
       "      <td>123</td>\n",
       "      <td>27.47</td>\n",
       "      <td>103</td>\n",
       "      <td>16.62</td>\n",
       "      <td>103</td>\n",
       "      <td>11.45</td>\n",
       "      <td>3</td>\n",
       "      <td>3.70</td>\n",
       "      <td>1</td>\n",
       "      <td>0</td>\n",
       "    </tr>\n",
       "    <tr>\n",
       "      <th>2</th>\n",
       "      <td>137</td>\n",
       "      <td>0</td>\n",
       "      <td>0</td>\n",
       "      <td>0</td>\n",
       "      <td>114</td>\n",
       "      <td>41.38</td>\n",
       "      <td>110</td>\n",
       "      <td>10.30</td>\n",
       "      <td>104</td>\n",
       "      <td>7.32</td>\n",
       "      <td>5</td>\n",
       "      <td>3.29</td>\n",
       "      <td>0</td>\n",
       "      <td>0</td>\n",
       "    </tr>\n",
       "    <tr>\n",
       "      <th>3</th>\n",
       "      <td>84</td>\n",
       "      <td>1</td>\n",
       "      <td>0</td>\n",
       "      <td>0</td>\n",
       "      <td>71</td>\n",
       "      <td>50.90</td>\n",
       "      <td>88</td>\n",
       "      <td>5.26</td>\n",
       "      <td>89</td>\n",
       "      <td>8.86</td>\n",
       "      <td>7</td>\n",
       "      <td>1.78</td>\n",
       "      <td>2</td>\n",
       "      <td>0</td>\n",
       "    </tr>\n",
       "    <tr>\n",
       "      <th>4</th>\n",
       "      <td>75</td>\n",
       "      <td>1</td>\n",
       "      <td>0</td>\n",
       "      <td>0</td>\n",
       "      <td>113</td>\n",
       "      <td>28.34</td>\n",
       "      <td>122</td>\n",
       "      <td>12.61</td>\n",
       "      <td>121</td>\n",
       "      <td>8.41</td>\n",
       "      <td>3</td>\n",
       "      <td>2.73</td>\n",
       "      <td>3</td>\n",
       "      <td>0</td>\n",
       "    </tr>\n",
       "    <tr>\n",
       "      <th>...</th>\n",
       "      <td>...</td>\n",
       "      <td>...</td>\n",
       "      <td>...</td>\n",
       "      <td>...</td>\n",
       "      <td>...</td>\n",
       "      <td>...</td>\n",
       "      <td>...</td>\n",
       "      <td>...</td>\n",
       "      <td>...</td>\n",
       "      <td>...</td>\n",
       "      <td>...</td>\n",
       "      <td>...</td>\n",
       "      <td>...</td>\n",
       "      <td>...</td>\n",
       "    </tr>\n",
       "    <tr>\n",
       "      <th>3328</th>\n",
       "      <td>192</td>\n",
       "      <td>0</td>\n",
       "      <td>1</td>\n",
       "      <td>36</td>\n",
       "      <td>77</td>\n",
       "      <td>26.55</td>\n",
       "      <td>126</td>\n",
       "      <td>18.32</td>\n",
       "      <td>83</td>\n",
       "      <td>12.56</td>\n",
       "      <td>6</td>\n",
       "      <td>2.67</td>\n",
       "      <td>2</td>\n",
       "      <td>0</td>\n",
       "    </tr>\n",
       "    <tr>\n",
       "      <th>3329</th>\n",
       "      <td>68</td>\n",
       "      <td>0</td>\n",
       "      <td>0</td>\n",
       "      <td>0</td>\n",
       "      <td>57</td>\n",
       "      <td>39.29</td>\n",
       "      <td>55</td>\n",
       "      <td>13.04</td>\n",
       "      <td>123</td>\n",
       "      <td>8.61</td>\n",
       "      <td>4</td>\n",
       "      <td>2.59</td>\n",
       "      <td>3</td>\n",
       "      <td>0</td>\n",
       "    </tr>\n",
       "    <tr>\n",
       "      <th>3330</th>\n",
       "      <td>28</td>\n",
       "      <td>0</td>\n",
       "      <td>0</td>\n",
       "      <td>0</td>\n",
       "      <td>109</td>\n",
       "      <td>30.74</td>\n",
       "      <td>58</td>\n",
       "      <td>24.55</td>\n",
       "      <td>91</td>\n",
       "      <td>8.64</td>\n",
       "      <td>6</td>\n",
       "      <td>3.81</td>\n",
       "      <td>2</td>\n",
       "      <td>0</td>\n",
       "    </tr>\n",
       "    <tr>\n",
       "      <th>3331</th>\n",
       "      <td>184</td>\n",
       "      <td>1</td>\n",
       "      <td>0</td>\n",
       "      <td>0</td>\n",
       "      <td>105</td>\n",
       "      <td>36.35</td>\n",
       "      <td>84</td>\n",
       "      <td>13.57</td>\n",
       "      <td>137</td>\n",
       "      <td>6.26</td>\n",
       "      <td>10</td>\n",
       "      <td>1.35</td>\n",
       "      <td>2</td>\n",
       "      <td>0</td>\n",
       "    </tr>\n",
       "    <tr>\n",
       "      <th>3332</th>\n",
       "      <td>74</td>\n",
       "      <td>0</td>\n",
       "      <td>1</td>\n",
       "      <td>25</td>\n",
       "      <td>113</td>\n",
       "      <td>39.85</td>\n",
       "      <td>82</td>\n",
       "      <td>22.60</td>\n",
       "      <td>77</td>\n",
       "      <td>10.86</td>\n",
       "      <td>4</td>\n",
       "      <td>3.70</td>\n",
       "      <td>0</td>\n",
       "      <td>0</td>\n",
       "    </tr>\n",
       "  </tbody>\n",
       "</table>\n",
       "<p>3333 rows × 14 columns</p>\n",
       "</div>"
      ],
      "text/plain": [
       "      account_length  international_plan  voice_mail_plan  \\\n",
       "0                128                   0                1   \n",
       "1                107                   0                1   \n",
       "2                137                   0                0   \n",
       "3                 84                   1                0   \n",
       "4                 75                   1                0   \n",
       "...              ...                 ...              ...   \n",
       "3328             192                   0                1   \n",
       "3329              68                   0                0   \n",
       "3330              28                   0                0   \n",
       "3331             184                   1                0   \n",
       "3332              74                   0                1   \n",
       "\n",
       "      number_vmail_messages  total_day_calls  total_day_charge  \\\n",
       "0                        25              110             45.07   \n",
       "1                        26              123             27.47   \n",
       "2                         0              114             41.38   \n",
       "3                         0               71             50.90   \n",
       "4                         0              113             28.34   \n",
       "...                     ...              ...               ...   \n",
       "3328                     36               77             26.55   \n",
       "3329                      0               57             39.29   \n",
       "3330                      0              109             30.74   \n",
       "3331                      0              105             36.35   \n",
       "3332                     25              113             39.85   \n",
       "\n",
       "      total_eve_calls  total_eve_charge  total_night_calls  \\\n",
       "0                  99             16.78                 91   \n",
       "1                 103             16.62                103   \n",
       "2                 110             10.30                104   \n",
       "3                  88              5.26                 89   \n",
       "4                 122             12.61                121   \n",
       "...               ...               ...                ...   \n",
       "3328              126             18.32                 83   \n",
       "3329               55             13.04                123   \n",
       "3330               58             24.55                 91   \n",
       "3331               84             13.57                137   \n",
       "3332               82             22.60                 77   \n",
       "\n",
       "      total_night_charge  total_intl_calls  total_intl_charge  \\\n",
       "0                  11.01                 3               2.70   \n",
       "1                  11.45                 3               3.70   \n",
       "2                   7.32                 5               3.29   \n",
       "3                   8.86                 7               1.78   \n",
       "4                   8.41                 3               2.73   \n",
       "...                  ...               ...                ...   \n",
       "3328               12.56                 6               2.67   \n",
       "3329                8.61                 4               2.59   \n",
       "3330                8.64                 6               3.81   \n",
       "3331                6.26                10               1.35   \n",
       "3332               10.86                 4               3.70   \n",
       "\n",
       "      customer_service_calls  churn  \n",
       "0                          1      0  \n",
       "1                          1      0  \n",
       "2                          0      0  \n",
       "3                          2      0  \n",
       "4                          3      0  \n",
       "...                      ...    ...  \n",
       "3328                       2      0  \n",
       "3329                       3      0  \n",
       "3330                       2      0  \n",
       "3331                       2      0  \n",
       "3332                       0      0  \n",
       "\n",
       "[3333 rows x 14 columns]"
      ]
     },
     "execution_count": 19,
     "metadata": {},
     "output_type": "execute_result"
    }
   ],
   "source": [
    "# Convert categorical variables\n",
    "# Apply LabelEncoder to the categorical columns\n",
    "df1['international_plan'] = le.fit_transform(df1['international_plan'])\n",
    "df1['voice_mail_plan'] = le.fit_transform(df1['voice_mail_plan'])\n",
    "\n",
    "df1"
   ]
  },
  {
   "cell_type": "code",
   "execution_count": 20,
   "metadata": {},
   "outputs": [
    {
     "name": "stdout",
     "output_type": "stream",
     "text": [
      "<class 'pandas.core.frame.DataFrame'>\n",
      "RangeIndex: 3333 entries, 0 to 3332\n",
      "Data columns (total 14 columns):\n",
      " #   Column                  Non-Null Count  Dtype  \n",
      "---  ------                  --------------  -----  \n",
      " 0   account_length          3333 non-null   int64  \n",
      " 1   international_plan      3333 non-null   int32  \n",
      " 2   voice_mail_plan         3333 non-null   int32  \n",
      " 3   number_vmail_messages   3333 non-null   int64  \n",
      " 4   total_day_calls         3333 non-null   int64  \n",
      " 5   total_day_charge        3333 non-null   float64\n",
      " 6   total_eve_calls         3333 non-null   int64  \n",
      " 7   total_eve_charge        3333 non-null   float64\n",
      " 8   total_night_calls       3333 non-null   int64  \n",
      " 9   total_night_charge      3333 non-null   float64\n",
      " 10  total_intl_calls        3333 non-null   int64  \n",
      " 11  total_intl_charge       3333 non-null   float64\n",
      " 12  customer_service_calls  3333 non-null   int64  \n",
      " 13  churn                   3333 non-null   int64  \n",
      "dtypes: float64(4), int32(2), int64(8)\n",
      "memory usage: 338.6 KB\n"
     ]
    }
   ],
   "source": [
    "# Checking the data frame information.\n",
    "df1.info()"
   ]
  },
  {
   "cell_type": "markdown",
   "metadata": {},
   "source": [
    "## 4. Modeling\n",
    "My aim is to find a model that balances a good recall (identify actual churners) and good precision (reducing false alarms).\n",
    "\n",
    "### **Model 1: Logistic Regression**  \n",
    "My first approach utilizes a **Logistic Regression Model**, a type of generalized linear model designed to predict the probability of a binary outcome—such as whether a customer will churn.  \n",
    "\n",
    "In this case, we apply logistic regression to analyze the relationship between our features and the probability of customer churn by using default parameters"
   ]
  },
  {
   "cell_type": "code",
   "execution_count": 21,
   "metadata": {},
   "outputs": [],
   "source": [
    "# Define feature set (X) and target variable (y)\n",
    "X = df1.drop(columns=['churn'])\n",
    "y = df1['churn']\n",
    "\n",
    "# Split data into training and testing sets\n",
    "X_train, X_test, y_train, y_test = train_test_split(X, y, test_size=0.2, random_state=42, stratify=y)\n"
   ]
  },
  {
   "cell_type": "code",
   "execution_count": 22,
   "metadata": {},
   "outputs": [],
   "source": [
    "# Standardize numerical features\n",
    "scaler = StandardScaler()\n",
    "X_train_sc = scaler.fit_transform(X_train)\n",
    "X_test_sc = scaler.transform(X_test)"
   ]
  },
  {
   "cell_type": "code",
   "execution_count": 23,
   "metadata": {},
   "outputs": [
    {
     "data": {
      "text/plain": [
       "LogisticRegression(random_state=42)"
      ]
     },
     "execution_count": 23,
     "metadata": {},
     "output_type": "execute_result"
    }
   ],
   "source": [
    "\n",
    "# Initialize and train logistic regression model\n",
    "log_reg = LogisticRegression(random_state=42)\n",
    "log_reg.fit(X_train_sc, y_train)\n"
   ]
  },
  {
   "cell_type": "code",
   "execution_count": 24,
   "metadata": {},
   "outputs": [],
   "source": [
    "\n",
    "# Make predictions\n",
    "y_pred = log_reg.predict(X_test_sc)\n",
    "y_pred_proba = log_reg.predict_proba(X_test_sc)[:, 1]   # Probability of positive class (churned)\n",
    "\n",
    "# Predict churn for the train \n",
    "y_train_pred = log_reg.predict(X_train_sc)\n"
   ]
  },
  {
   "cell_type": "code",
   "execution_count": 25,
   "metadata": {
    "scrolled": true
   },
   "outputs": [
    {
     "name": "stdout",
     "output_type": "stream",
     "text": [
      "Test Accuracy: 0.8591\n",
      "Train Accuracy: 0.8591\n",
      "Precision: 0.5333\n",
      "Recall: 0.2474\n",
      "F1 Score: 0.3380\n",
      "ROC AUC Score: 0.8169\n",
      "Confusion Matrix:\n",
      " [[549  21]\n",
      " [ 73  24]]\n"
     ]
    }
   ],
   "source": [
    "# Evaluate model performance\n",
    "test_accuracy = accuracy_score(y_test, y_pred)\n",
    "train_accuracy = accuracy_score(y_train, y_train_pred)\n",
    "\n",
    "precision = precision_score(y_test, y_pred)\n",
    "recall = recall_score(y_test, y_pred)\n",
    "f1 = f1_score(y_test, y_pred)\n",
    "roc_auc = roc_auc_score(y_test, y_pred_proba)\n",
    "conf_matrix = confusion_matrix(y_test, y_pred)\n",
    "\n",
    "# Print results\n",
    "print(f'Test Accuracy: {test_accuracy:.4f}')\n",
    "print(f'Train Accuracy: {test_accuracy:.4f}')\n",
    "print(f'Precision: {precision:.4f}')\n",
    "print(f'Recall: {recall:.4f}')\n",
    "print(f'F1 Score: {f1:.4f}')\n",
    "print(f'ROC AUC Score: {roc_auc:.4f}')\n",
    "print('Confusion Matrix:\\n', conf_matrix)\n"
   ]
  },
  {
   "cell_type": "code",
   "execution_count": 26,
   "metadata": {},
   "outputs": [
    {
     "name": "stdout",
     "output_type": "stream",
     "text": [
      "Classification Report:\n",
      "               precision    recall  f1-score   support\n",
      "\n",
      "           0       0.88      0.96      0.92       570\n",
      "           1       0.53      0.25      0.34        97\n",
      "\n",
      "    accuracy                           0.86       667\n",
      "   macro avg       0.71      0.61      0.63       667\n",
      "weighted avg       0.83      0.86      0.84       667\n",
      "\n"
     ]
    }
   ],
   "source": [
    "# Generating the classification report\n",
    "class_report = classification_report(y_test, y_pred)\n",
    "\n",
    "# Print results\n",
    "print(\"Classification Report:\\n\", class_report)\n"
   ]
  },
  {
   "cell_type": "markdown",
   "metadata": {},
   "source": [
    "### **Interpretation of the Classification Report:**\n",
    "\n",
    "The classification report provides key performance metrics for both classes (0 and 1).\n",
    "\n",
    "#### **Class 0 (Non-Churned Customers)**\n",
    "- **Precision: 0.88** → When the model predicts **\"Not Churn\" (0)**, it is correct **88%** of the time.\n",
    "- **Recall: 0.96** → The model correctly identifies **96%** of all actual **non-churned** customers.\n",
    "- **F1-Score: 0.92** → A balanced measure of precision and recall, meaning the model performs **very well** in identifying non-churned customers.\n",
    "\n",
    "#### **Class 1 (Churned Customers)**\n",
    "- **Precision: 0.53** → When the model predicts **\"Churn\" (1)**, it is correct **53%** of the time.  \n",
    "- **Recall: 0.25** → The model only catches **24%** of actual churned customers (meaning it **misses** a lot of them).  \n",
    "- **F1-Score: 0.34** → A low score due to poor recall, indicating that the model struggles to detect churn.\n",
    "\n",
    "\n",
    "\n",
    "### **Overall Model Performance**\n",
    "- **Accuracy: 0.86 (86%)** → The model correctly classifies **86%** of total customers.\n",
    "\n",
    "\n",
    "\n",
    "### **Key Insights:**\n",
    "1. **Model is biased toward predicting \"No Churn\" (0).**\n",
    "   - High recall for class 0 (96%) but very low recall for class 1 (25%).\n",
    "   - This suggests the model is **not identifying enough churned customers**.\n",
    "   \n",
    "   \n",
    "2. **False Negatives are high (many churners are misclassified as non-churn).**\n",
    "   - This is **risky** for businesses because missing churners means they cannot take proactive action to retain them.\n",
    "   \n",
    "   \n",
    "3. **This model is likely underfitting because:**\n",
    "\n",
    "   - Low recall (25%) suggests the model is too simple and fails to capture churners properly.\n",
    "   - F1 Score is low (34%), which means the model does not generalize well to the test data.\n",
    "   - High accuracy but poor recall indicates that the model is biased towards predicting customers as non-churners, potentially due to class imbalance.\n"
   ]
  },
  {
   "cell_type": "code",
   "execution_count": 27,
   "metadata": {
    "scrolled": true
   },
   "outputs": [
    {
     "data": {
      "image/png": "[encoded data removed]",
      "text/plain": [
       "<Figure size 576x432 with 1 Axes>"
      ]
     },
     "metadata": {
      "needs_background": "light"
     },
     "output_type": "display_data"
    },
    {
     "data": {
      "text/plain": [
       "<sklearn.metrics._plot.confusion_matrix.ConfusionMatrixDisplay at 0x193dd533a60>"
      ]
     },
     "execution_count": 27,
     "metadata": {},
     "output_type": "execute_result"
    },
    {
     "data": {
      "image/png": "[encoded data removed]",
      "text/plain": [
       "<Figure size 432x288 with 2 Axes>"
      ]
     },
     "metadata": {
      "needs_background": "light"
     },
     "output_type": "display_data"
    }
   ],
   "source": [
    "# Plot the ROC curve for test data\n",
    "\n",
    "fpr, tpr, thresholds = roc_curve(y_test, y_pred_proba)\n",
    "roc_auc = roc_auc_score(y_test, y_pred_proba)\n",
    "\n",
    "\n",
    "fig, ax = plt.subplots(figsize=(8, 6))\n",
    "\n",
    "ax.plot(fpr, tpr, color='b', lw=2, label=f'ROC curve (AUC = {roc_auc:.2f})')\n",
    "ax.plot([0, 1], [0, 1], color='gray', linestyle='--')\n",
    "ax.set_xlim([0.0, 1.0])\n",
    "ax.set_ylim([0.0, 1.0])\n",
    "ax.set_xlabel('False Positive Rate')\n",
    "ax.set_ylabel('True Positive Rate')\n",
    "ax.set_title('Receiver Operating Characteristic (ROC) Curve')\n",
    "ax.legend(loc=\"lower right\")\n",
    "\n",
    "plt.show()\n",
    "\n",
    "# Display the confusion matrix\n",
    "disp = ConfusionMatrixDisplay(conf_matrix, display_labels=['No Churn', 'Churn'])\n",
    "disp.plot(cmap='viridis')\n"
   ]
  },
  {
   "cell_type": "markdown",
   "metadata": {},
   "source": [
    "### **Interpretation:**\n",
    "- **True Negatives (TN) = 549** → Customers correctly predicted as *not churning*  \n",
    "- **False Positives (FP) = 21** → Customers incorrectly predicted as *churning* (but they didn't)  \n",
    "- **False Negatives (FN) = 73** → Customers incorrectly predicted as *not churning* (but they did)  \n",
    "- **True Positives (TP) = 24** → Customers correctly predicted as *churning* \n",
    "\n",
    "**Therefore**, the first model it fails to predict churned customers. We'll need to deal with class balance with SMOTE.\n",
    "\n",
    "\n"
   ]
  },
  {
   "cell_type": "markdown",
   "metadata": {},
   "source": [
    "## MODEL 1.2 LOGISTIC MODEL - DEALING WITH CLASS IMBALANCE WITH SMOTE\n",
    "\n",
    "- Adjusting the model to adjust for class imbalance in the target variable to see if there are resonable improvements."
   ]
  },
  {
   "cell_type": "code",
   "execution_count": 28,
   "metadata": {},
   "outputs": [
    {
     "name": "stdout",
     "output_type": "stream",
     "text": [
      "churn\n",
      "0    2280\n",
      "1    2280\n",
      "Name: count, dtype: int64\n"
     ]
    }
   ],
   "source": [
    "# Initializing smote\n",
    "smote = SMOTE(random_state=42)\n",
    "X_train_resampled, y_train_resampled = smote.fit_resample(X_train_sc, y_train)\n",
    "\n",
    "# The classes should now be balanced\n",
    "print(y_train_resampled.value_counts()) \n"
   ]
  },
  {
   "cell_type": "code",
   "execution_count": 29,
   "metadata": {},
   "outputs": [
    {
     "data": {
      "text/plain": [
       "LogisticRegression(class_weight='balanced', random_state=42)"
      ]
     },
     "execution_count": 29,
     "metadata": {},
     "output_type": "execute_result"
    }
   ],
   "source": [
    "# Fitting the logistic Regression model\n",
    "log_reg2_smote = LogisticRegression(random_state=42, class_weight='balanced')\n",
    "log_reg2_smote.fit(X_train_resampled, y_train_resampled)\n"
   ]
  },
  {
   "cell_type": "code",
   "execution_count": 30,
   "metadata": {
    "scrolled": false
   },
   "outputs": [
    {
     "name": "stdout",
     "output_type": "stream",
     "text": [
      "Train Accuracy: 0.7757\n",
      "Test Accuracy: 0.7616\n",
      "Precision: 0.3465\n",
      "Recall: 0.7216\n",
      "F1 Score: 0.4682\n",
      "ROC AUC Score: 0.8095\n",
      "Confusion Matrix:\n",
      " [[438 132]\n",
      " [ 27  70]]\n"
     ]
    }
   ],
   "source": [
    "# Get predictions for both test and train sets\n",
    "y_train_pred = log_reg2_smote.predict(X_train_sc)\n",
    "y_pred = log_reg2_smote.predict(X_test_sc)\n",
    "y_pred_proba = log_reg2_smote.predict_proba(X_test_sc)[:, 1]  # Extract probability for class 1\n",
    "\n",
    "# Evaluate performance\n",
    "train_accuracy = accuracy_score(y_train, y_train_pred)\n",
    "test_accuracy = accuracy_score(y_test, y_pred)\n",
    "\n",
    "precision = precision_score(y_test, y_pred)\n",
    "recall = recall_score(y_test, y_pred)\n",
    "f1 = f1_score(y_test, y_pred)\n",
    "roc_auc = roc_auc_score(y_test, y_pred_proba)\n",
    "conf_matrix = confusion_matrix(y_test, y_pred)\n",
    "\n",
    "# Print results\n",
    "print(f'Train Accuracy: {train_accuracy:.4f}')\n",
    "print(f'Test Accuracy: {test_accuracy:.4f}')\n",
    "print(f'Precision: {precision:.4f}')\n",
    "print(f'Recall: {recall:.4f}')\n",
    "print(f'F1 Score: {f1:.4f}')\n",
    "print(f'ROC AUC Score: {roc_auc:.4f}')\n",
    "print('Confusion Matrix:\\n', conf_matrix)\n"
   ]
  },
  {
   "cell_type": "code",
   "execution_count": 31,
   "metadata": {
    "scrolled": false
   },
   "outputs": [
    {
     "name": "stdout",
     "output_type": "stream",
     "text": [
      "              precision    recall  f1-score   support\n",
      "\n",
      "           0       0.94      0.77      0.85       570\n",
      "           1       0.35      0.72      0.47        97\n",
      "\n",
      "    accuracy                           0.76       667\n",
      "   macro avg       0.64      0.75      0.66       667\n",
      "weighted avg       0.86      0.76      0.79       667\n",
      "\n"
     ]
    }
   ],
   "source": [
    "# Classification Report\n",
    "y_pred = log_reg2_smote.predict(X_test_sc)\n",
    "print(classification_report(y_test, y_pred))\n"
   ]
  },
  {
   "cell_type": "markdown",
   "metadata": {},
   "source": [
    "### **Interpretation of Classification Report:**\n",
    "\n",
    "This classification report summarizes the model’s performance across different evaluation metrics for **churn prediction**. \n",
    "\n",
    "\n",
    "\n",
    "### Key Observations:\n",
    "\n",
    "#### Class 0 (Not Churn):\n",
    "- **Precision (94%)**: When the model predicts \"Not Churn,\" it is correct **94% of the time**.\n",
    "- **Recall (77%)**: It correctly identifies **77% of actual non-churners**.\n",
    "- **F1 Score (85%)**: A good balance between precision and recall.\n",
    "\n",
    "#### Class 1 (Churn) :\n",
    "- **Precision (35%)**: When the model predicts \"Churn,\" it is correct **only 35% of the time** (low precision).  \n",
    "  - Many non-churners are mistakenly classified as churn (high **false positives**). If we target customers predicted to churn with special offers, a low precision means we’ll spend resources on many customers who were not actually at risk of leaving.\n",
    "  \n",
    "- **Recall (72%)**: The model **catches 72% of actual churners**.  \n",
    "  - This is **good** but still misses **28% of real churners** (false negatives) meaning some customers at risk are not being identified.Since recall is prioritized in churn prediction, the model does a fair job of identifying at-risk customers.\n",
    "  \n",
    "- **F1 Score (47%)**: Since **recall is higher than precision** the model is biased toward recall, which is better in churn prediction because missing churners (false negatives) is worse than mistakenly identifying non-churners as churners (false positives).\n",
    "\n",
    "\n",
    "### **Overall Model Performance**\n",
    "- **Accuracy: 0.76 (76%)** → The model correctly classifies **76%** of total customers.\n",
    "\n",
    "\n",
    "\n",
    "\n",
    "###  Business Impact Analysis\n",
    "\n",
    "  - **Low precision for churners (35%)** means many customers are falsely flagged as \"at risk\" of leaving.\n",
    "  - This could lead to **wasting retention offers/resources** on customers who were not going to leave.\n",
    "  - **28% of real churners are still being missed**, meaning **some customers at risk are not being identified**.\n"
   ]
  },
  {
   "cell_type": "code",
   "execution_count": 32,
   "metadata": {
    "scrolled": true
   },
   "outputs": [
    {
     "data": {
      "image/png": "[encoded data removed]",
      "text/plain": [
       "<Figure size 576x432 with 1 Axes>"
      ]
     },
     "metadata": {
      "needs_background": "light"
     },
     "output_type": "display_data"
    },
    {
     "data": {
      "text/plain": [
       "<sklearn.metrics._plot.confusion_matrix.ConfusionMatrixDisplay at 0x193dd3bd4c0>"
      ]
     },
     "execution_count": 32,
     "metadata": {},
     "output_type": "execute_result"
    },
    {
     "data": {
      "image/png": "[encoded data removed]",
      "text/plain": [
       "<Figure size 432x288 with 2 Axes>"
      ]
     },
     "metadata": {
      "needs_background": "light"
     },
     "output_type": "display_data"
    }
   ],
   "source": [
    "# Plot the ROC curve for test data\n",
    "\n",
    "fpr, tpr, thresholds = roc_curve(y_test, y_pred_proba)\n",
    "roc_auc = roc_auc_score(y_test, y_pred_proba)\n",
    "\n",
    "\n",
    "fig, ax = plt.subplots(figsize=(8, 6))\n",
    "\n",
    "ax.plot(fpr, tpr, color='b', lw=2, label=f'ROC curve (AUC = {roc_auc:.2f})')\n",
    "ax.plot([0, 1], [0, 1], color='gray', linestyle='--')\n",
    "ax.set_xlim([0.0, 1.0])\n",
    "ax.set_ylim([0.0, 1.0])\n",
    "ax.set_xlabel('False Positive Rate')\n",
    "ax.set_ylabel('True Positive Rate')\n",
    "ax.set_title('Receiver Operating Characteristic (ROC) Curve')\n",
    "ax.legend(loc=\"lower right\")\n",
    "\n",
    "plt.show()\n",
    "\n",
    "# Display the confusion matrix\n",
    "disp = ConfusionMatrixDisplay(conf_matrix, display_labels=['No Churn', 'Churn'])\n",
    "disp.plot(cmap='viridis')"
   ]
  },
  {
   "cell_type": "markdown",
   "metadata": {},
   "source": [
    "### **Interpretation of the confusion matrix:**\n",
    "- **True Negatives (TN) = 438** → Customers correctly predicted as *not churning*  \n",
    "- **False Positives (FP) = 132** → Customers incorrectly predicted as *churning* (but they didn't)  \n",
    "- **False Negatives (FN) = 27** → Customers incorrectly predicted as *not churning* (but they did)  \n",
    "- **True Positives (TP) = 70** → Customers correctly predicted as *churning* \n"
   ]
  },
  {
   "cell_type": "markdown",
   "metadata": {},
   "source": [
    "### **Key Takeaways**\n",
    "- **SMOTE increased recall from 25% to 72%**  (Better at identifying churners).\n",
    "- **Precision dropped from 53% to 35%**  (More false positives → higher cost of retention efforts).\n",
    "- **Accuracy and ROC AUC decreased**, showing that the model now prioritizes finding churners rather than overall correctness.\n",
    "- **F1 Score improved**, meaning the model is more balanced in handling both churn and non-churn predictions.\n",
    "\n",
    "### **Alternative Models**\n",
    "Since we want a model that balances **high recall (finding churners) and good precision (reducing false alarms)**, we can try:\n",
    "**Random Forest Classifier**, **DecisionTreeClassifier**  (Better for feature importance & reducing overfitting)\n"
   ]
  },
  {
   "cell_type": "markdown",
   "metadata": {},
   "source": [
    "## Model 2: Decision Tree Classifier\n",
    "\n",
    "- Based on the initial data split, we will train, test, and evaluate the model using a Decision Tree Classifier. We will begin by training the model using the X_train and y_train datasets."
   ]
  },
  {
   "cell_type": "code",
   "execution_count": 33,
   "metadata": {},
   "outputs": [],
   "source": [
    "# Initialize the Decision Tree Classifier\n",
    "dtclf = DecisionTreeClassifier(random_state=42)\n",
    "\n",
    "# Train the classifier on the encoded training data\n",
    "dtclf.fit(X_train, y_train)\n",
    "\n",
    "# Make predictions on the encoded testing data\n",
    "y_pred = dtclf.predict(X_test)"
   ]
  },
  {
   "cell_type": "code",
   "execution_count": 34,
   "metadata": {},
   "outputs": [
    {
     "name": "stdout",
     "output_type": "stream",
     "text": [
      "Accuracy  0.9055472263868066\n",
      "Precision  0.6847826086956522\n",
      "Recall  0.6494845360824743\n",
      "f1_Score  0.6666666666666666\n",
      "train score  1.0\n",
      "test score  0.9055472263868066\n"
     ]
    }
   ],
   "source": [
    "# Evaluate the model's performance\n",
    "dtclf_accuracy = accuracy_score(y_test, y_pred)\n",
    "dtclf_precision = precision_score(y_test, y_pred)\n",
    "dtclf_recall = recall_score(y_test, y_pred)\n",
    "dtclf_f1 = f1_score(y_test, y_pred)\n",
    "\n",
    "print('Accuracy ', dtclf_accuracy)\n",
    "print('Precision ', dtclf_precision)\n",
    "print('Recall ', dtclf_recall)\n",
    "print('f1_Score ', dtclf_f1)\n",
    "\n",
    "#Calculate train and test scores\n",
    "train_score = dtclf.score(X_train, y_train)\n",
    "test_score = dtclf.score(X_test, y_test)\n",
    "\n",
    "print('train score ', train_score)\n",
    "print('test score ', test_score)"
   ]
  },
  {
   "cell_type": "code",
   "execution_count": 35,
   "metadata": {
    "scrolled": true
   },
   "outputs": [
    {
     "data": {
      "image/png": "[encoded data removed]",
      "text/plain": [
       "<Figure size 432x288 with 2 Axes>"
      ]
     },
     "metadata": {
      "needs_background": "light"
     },
     "output_type": "display_data"
    }
   ],
   "source": [
    "# Compute confusion matrix\n",
    "cm = confusion_matrix(y_test, y_pred)\n",
    "\n",
    "# Plot confusion matrix\n",
    "plt.figure(figsize=(6,4))\n",
    "sns.heatmap(cm, annot=True, fmt='d', cmap='Blues', xticklabels=['No Churn', 'Churn'], yticklabels=['No Churn', 'Churn'])\n",
    "plt.xlabel('Predicted Label')\n",
    "plt.ylabel('True Label')\n",
    "plt.title('Confusion Matrix')\n",
    "plt.show()\n"
   ]
  },
  {
   "cell_type": "markdown",
   "metadata": {},
   "source": [
    "### **Interpretation of the Decision Tree Classifier Results**  \n",
    "\n",
    "1. **Accuracy (90%)**  \n",
    "   - The model correctly classified approximately **90%** of the test samples.  \n",
    "   - This suggests the model performs well overall but does not necessarily indicate balanced performance across all classes.\n",
    "\n",
    "2. **Precision (68%)**  \n",
    "   - A precision of **68%** suggests that when the model predicts a positive class, it is correct about **68%** of the time.\n",
    "   \n",
    "3. **Recall (64.94%)**  \n",
    "   - With **64.94%** recall, the model captures a majority of actual positive cases but misses some (false negatives).  \n",
    "\n",
    "\n",
    "4. **F1-Score (66.6%)**  \n",
    "   - **66.6%** indicates a trade-off between precision and recall.  \n",
    "   \n",
    "   \n",
    "5. **Train Score (1.0 or 100%)**  \n",
    "   - The model **perfectly** classified all training data, which is a strong indicator of **overfitting** which suggests that the model memorizes the training data instead of generalizing well.\n",
    "\n",
    "6. **Test Score (90%)**  \n",
    "   - The drop from **100% (train)** to **90% (test)** shows that the model generalizes fairly well but might still be slightly overfitting.\n",
    "\n",
    "\n",
    "**Next Steps to Improve Performance:**  \n",
    "  - **Pruning the decision tree** (reduce depth to prevent overfitting).  \n",
    "  - **Tuning hyperparameters** (e.g., `max_depth`, `min_samples_split`).  \n",
    "  \n"
   ]
  },
  {
   "cell_type": "markdown",
   "metadata": {},
   "source": [
    "## Model 2.1: Decision Tree Classifier\n",
    "## Improving the Decision Tree model using GridSeachCV\n",
    "\n",
    "I'll use grid search to identify the best model parameters that improve performance."
   ]
  },
  {
   "cell_type": "code",
   "execution_count": 36,
   "metadata": {
    "scrolled": true
   },
   "outputs": [
    {
     "name": "stdout",
     "output_type": "stream",
     "text": [
      "Best Parameters: {'criterion': 'gini', 'max_depth': 10, 'min_samples_leaf': 2, 'min_samples_split': 10}\n",
      "Accuracy: 0.9370\n",
      "Classification Report:\n",
      "              precision    recall  f1-score   support\n",
      "\n",
      "           0       0.95      0.98      0.96       570\n",
      "           1       0.86      0.68      0.76        97\n",
      "\n",
      "    accuracy                           0.94       667\n",
      "   macro avg       0.90      0.83      0.86       667\n",
      "weighted avg       0.93      0.94      0.93       667\n",
      "\n",
      "Confusion Matrix:\n",
      "[[559  11]\n",
      " [ 31  66]]\n",
      "Train Score: 0.9700\n",
      "Test Score: 0.9370\n"
     ]
    }
   ],
   "source": [
    "# Define hyperparameter grid\n",
    "param_grid = {\n",
    "    'max_depth': [3, 5, 10],  \n",
    "    'min_samples_split': [2, 5, 10],  \n",
    "    'min_samples_leaf': [1, 2, 5],  \n",
    "    'criterion': ['gini', 'entropy']  \n",
    "}\n",
    "\n",
    "# Initialize Decision Tree Classifier\n",
    "dtclf = DecisionTreeClassifier(random_state=42)\n",
    "\n",
    "# Perform Grid Search with Cross Validation\n",
    "grid_search = GridSearchCV(dtclf, param_grid, cv=5, scoring='accuracy')\n",
    "grid_search.fit(X_train, y_train)\n",
    "\n",
    "# Best model\n",
    "best_dtclf = grid_search.best_estimator_\n",
    "print(f\"Best Parameters: {grid_search.best_params_}\")\n",
    "\n",
    "# Making predictions\n",
    "y_pred = best_dtclf.predict(X_test)\n",
    "\n",
    "# Computing training score\n",
    "train_score = best_dtclf.score(X_train, y_train)\n",
    "\n",
    "# Computing testing score\n",
    "test_score = best_dtclf.score(X_test, y_test)\n",
    "\n",
    "# Evaluate model performance\n",
    "accuracy = accuracy_score(y_test, y_pred)\n",
    "print(f\"Accuracy: {accuracy:.4f}\")\n",
    "\n",
    "print(\"Classification Report:\")\n",
    "print(classification_report(y_test, y_pred))\n",
    "\n",
    "print(\"Confusion Matrix:\")\n",
    "print(confusion_matrix(y_test, y_pred))\n",
    "\n",
    "\n",
    "print(f\"Train Score: {train_score:.4f}\")\n",
    "print(f\"Test Score: {test_score:.4f}\")\n"
   ]
  },
  {
   "cell_type": "markdown",
   "metadata": {},
   "source": [
    "### Interpretation of the Improved Decision Tree Classifier Results \n",
    "\n",
    "####  Best Model Parameters\n",
    "The best hyperparameters selected via **GridSearchCV**:  \n",
    "- **Criterion:** `gini` → The tree splits nodes based on the Gini impurity.  \n",
    "- **Max Depth:** `10` → Limits the tree's depth to prevent overfitting.  \n",
    "- **Min Samples Leaf:** `2` → Ensures each leaf node has at least two samples, improving generalization.  \n",
    "- **Min Samples Split:** `10` → A node must have at least 10 samples to split, reducing unnecessary splits.  \n",
    "\n",
    "These parameters indicate a **well-optimized tree that balances complexity and performance.**  \n",
    "\n",
    "####  Model Performance Metrics\n",
    "\n",
    "- The **high accuracy (93.7%)** suggests the model performs well on unseen data.  \n",
    "- The **train score (97%)** is slightly higher than the test score, but not excessively, meaning **minimal overfitting**.  \n",
    "\n",
    "\n",
    "####  Classification Report Analysis\n",
    "\n",
    "- **Precision for Class 0 (Majority Class)** is **0.95**, meaning **95% of predicted Class 0 instances were correct**.  \n",
    "- **Recall for Class 0** is **0.98**, indicating that **98% of actual Class 0 instances were correctly identified**.  \n",
    "- **Precision for Class 1 (Minority Class)** is **0.86**, which means **some false positives exist**.  \n",
    "- **Recall for Class 1** is **0.68**, meaning **only 68% of actual Class 1 instances were correctly classified**.  \n",
    "- The **F1-score for Class 1 is 0.76**, which is lower than Class 0, indicating room for improvement in detecting minority class cases.  \n",
    "\n"
   ]
  },
  {
   "cell_type": "code",
   "execution_count": 37,
   "metadata": {},
   "outputs": [
    {
     "data": {
      "image/png": "[encoded data removed]",
      "text/plain": [
       "<Figure size 432x288 with 1 Axes>"
      ]
     },
     "metadata": {
      "needs_background": "light"
     },
     "output_type": "display_data"
    }
   ],
   "source": [
    "# Get probability estimates for the positive class\n",
    "y_prob = best_dtclf.predict_proba(X_test)[:, 1]\n",
    "\n",
    "# Compute ROC curve\n",
    "fpr, tpr, thresholds = roc_curve(y_test, y_prob)\n",
    "roc_auc = auc(fpr, tpr)\n",
    "\n",
    "# Plot ROC curve\n",
    "plt.figure(figsize=(6,4))\n",
    "plt.plot(fpr, tpr, color='blue', lw=2, label=f'ROC Curve (AUC = {roc_auc:.2f})')\n",
    "plt.plot([0, 1], [0, 1], color='gray', linestyle='--')  # Random classifier line\n",
    "plt.xlabel('False Positive Rate')\n",
    "plt.ylabel('True Positive Rate')\n",
    "plt.title('ROC Curve')\n",
    "plt.legend(loc='lower right')\n",
    "plt.show()\n"
   ]
  },
  {
   "cell_type": "code",
   "execution_count": 38,
   "metadata": {
    "scrolled": false
   },
   "outputs": [
    {
     "data": {
      "image/png": "[encoded data removed]",
      "text/plain": [
       "<Figure size 432x288 with 2 Axes>"
      ]
     },
     "metadata": {
      "needs_background": "light"
     },
     "output_type": "display_data"
    }
   ],
   "source": [
    "# Compute confusion matrix\n",
    "cm = confusion_matrix(y_test, y_pred)\n",
    "\n",
    "# Plot confusion matrix\n",
    "plt.figure(figsize=(6,4))\n",
    "sns.heatmap(cm, annot=True, fmt='d', cmap='Blues', xticklabels=['No Churn', 'Churn'], yticklabels=['No Churn', 'Churn'])\n",
    "plt.xlabel('Predicted Label')\n",
    "plt.ylabel('True Label')\n",
    "plt.title('Confusion Matrix')\n",
    "plt.show()\n"
   ]
  },
  {
   "cell_type": "markdown",
   "metadata": {},
   "source": [
    "\n",
    "#### **Confusion Matrix Analysis**  \n",
    "- **True Positives (TP) = 66** → Correctly predicted Class 1.  \n",
    "- **True Negatives (TN) = 559** → Correctly predicted Class 0.  \n",
    "- **False Positives (FP) = 11** → Class 0 wrongly classified as Class 1.  \n",
    "- **False Negatives (FN) = 31** → Class 1 wrongly classified as Class 0.  \n",
    "\n",
    "**Low False Positives (11)** → Good at avoiding unnecessary misclassification of Class 0.  \n",
    "**Higher False Negatives (31)** → Some Class 1 instances are being misclassified as Class 0. \n",
    "\n",
    "\n",
    "### **Overall Interpretation:**\n",
    " **Strengths:**  \n",
    "- **High accuracy (93.7%)** with **minimal overfitting**.  \n",
    "- **Great performance on the majority class 0 (No Churn).**  \n",
    "- **Well-balanced precision and recall for Class 0.**  \n",
    "\n",
    "**Areas for Improvement:**  \n",
    "- **Recall for Class 1 (68%) is lower, meaning some minority class instances are missed.**  \n",
    "- **31 false negatives indicate the model sometimes fails to detect the minority class.**  \n",
    "\n",
    "---\n",
    "\n",
    "### **Next Step:**\n",
    " . **Use Ensemble Methods:** i.e. **Random Forest** that oould improve minority class recall.  \n",
    "  \n"
   ]
  },
  {
   "cell_type": "markdown",
   "metadata": {},
   "source": [
    "## Model 3: RandomForestClassifier"
   ]
  },
  {
   "cell_type": "code",
   "execution_count": 39,
   "metadata": {},
   "outputs": [
    {
     "name": "stdout",
     "output_type": "stream",
     "text": [
      "Accuracy: 0.9325\n",
      "Classification Report:\n",
      "              precision    recall  f1-score   support\n",
      "\n",
      "           0       0.94      0.99      0.96       570\n",
      "           1       0.89      0.61      0.72        97\n",
      "\n",
      "    accuracy                           0.93       667\n",
      "   macro avg       0.92      0.80      0.84       667\n",
      "weighted avg       0.93      0.93      0.93       667\n",
      "\n",
      "Confusion Matrix:\n",
      "[[563   7]\n",
      " [ 38  59]]\n",
      "Train Score: 1.0000\n",
      "Test Score: 0.9325\n"
     ]
    }
   ],
   "source": [
    "# Initialize a baseline Random Forest model\n",
    "rf_clf = RandomForestClassifier(n_estimators=100, random_state=42)\n",
    "\n",
    "# Train the model\n",
    "rf_clf.fit(X_train, y_train)\n",
    "\n",
    "# Make predictions\n",
    "y_pred = rf_clf.predict(X_test)\n",
    "\n",
    "# Compute training and testing scores\n",
    "train_score = rf_clf.score(X_train, y_train)\n",
    "test_score = rf_clf.score(X_test, y_test)\n",
    "\n",
    "# Evaluate model performance\n",
    "accuracy = accuracy_score(y_test, y_pred)\n",
    "print(f\"Accuracy: {accuracy:.4f}\")\n",
    "\n",
    "print(\"Classification Report:\")\n",
    "print(classification_report(y_test, y_pred))\n",
    "\n",
    "print(\"Confusion Matrix:\")\n",
    "print(confusion_matrix(y_test, y_pred))\n",
    "\n",
    "print(f\"Train Score: {train_score:.4f}\")\n",
    "print(f\"Test Score: {test_score:.4f}\")\n"
   ]
  },
  {
   "cell_type": "markdown",
   "metadata": {},
   "source": [
    "###  Interpretation of the Random Forest Model Results\n",
    "\n",
    "####  Accuracy: 0.9340 (93.4%)\n",
    "- The model correctly classifies **93.4%** of the test samples.\n",
    "- This indicates **strong overall performance**.\n",
    "\n",
    "\n",
    "\n",
    "#### Classification Report Analysis  \n",
    "\n",
    "- **Precision (0.89 for Class 1)** → When the model predicts Class 1 (positive), it is correct **89% of the time**.  \n",
    "- **Recall (0.61 for Class 1)** → The model only identifies **61% of actual Class 1 cases**. This suggests **many false negatives** (misclassifying actual Class 1 as Class 0).  \n",
    "- **F1-score (0.72 for Class 1)** → A **balance between precision & recall**, but lower than Class 0 due to recall issues.\n",
    "\n",
    "\n",
    "\n",
    "#### Confusion Matrix Analysis\n",
    "\n",
    "- **563 True Negatives (TN)** → Correctly predicted Class 0.  \n",
    "- **59 True Positives (TP)** → Correctly predicted Class 1.  \n",
    "- **7 False Positives (FP)** → Incorrectly predicted as Class 1 when it was Class 0.  \n",
    "- **38 False Negatives (FN)** → **Missed** 38 actual Class 1 cases (misclassified as Class 0).  \n",
    "\n",
    "\n",
    "\n",
    "#### Overfitting Concern\n",
    "- **Train Score = 1.000 (100%)** vs. **Test Score = 0.9340 (93.4%)**  \n",
    "- The model **perfectly fits** the training data, but slightly drops in the test set.  \n",
    "- This suggests **possible overfitting**, meaning the model memorized training patterns rather than generalizing well.\n",
    "\n",
    "\n",
    "\n",
    "### Key Insights & Recommendations \n",
    " - The model struggles with **recall for Class 1 (61%)**, meaning many **false negatives**. Therefore we'll need to apply **Random Over-Sampling (ROS)** combined with **Random Under-Sampling (RUS)** to balance the classes.\n",
    " - Implement **Hyperparameter Tuning**  \n",
    "   - Increase `n_estimators`, adjust `max_depth`.\n"
   ]
  },
  {
   "cell_type": "markdown",
   "metadata": {},
   "source": [
    "## Model 3.1: RandomForestClassifier\n",
    "## Improving the RandomForestClassifier with ROS AND RUS\n"
   ]
  },
  {
   "cell_type": "code",
   "execution_count": 40,
   "metadata": {
    "scrolled": false
   },
   "outputs": [
    {
     "name": "stdout",
     "output_type": "stream",
     "text": [
      "Class distribution after ROS: Counter({0: 2280, 1: 1824})\n",
      "Class distribution after ROS + RUS: Counter({0: 2026, 1: 1824})\n",
      "Accuracy: 0.9160\n",
      "Classification Report:\n",
      "              precision    recall  f1-score   support\n",
      "\n",
      "           0       0.96      0.94      0.95       570\n",
      "           1       0.70      0.75      0.72        97\n",
      "\n",
      "    accuracy                           0.92       667\n",
      "   macro avg       0.83      0.85      0.84       667\n",
      "weighted avg       0.92      0.92      0.92       667\n",
      "\n",
      "Confusion Matrix:\n",
      "[[538  32]\n",
      " [ 24  73]]\n",
      "Train Score: 0.9784\n",
      "Test Score: 0.9160\n"
     ]
    }
   ],
   "source": [
    "\n",
    "# Step 1: Applying Random Over-Sampling (ROS) to balance the minority class\n",
    "ros = RandomOverSampler(sampling_strategy=0.8, random_state=42)  # Increase minority class to 80% of majority\n",
    "X_ros, y_ros = ros.fit_resample(X_train, y_train)\n",
    "\n",
    "print(\"Class distribution after ROS:\", Counter(y_ros))\n",
    "\n",
    "# Step 2: Applying Random Under-Sampling (RUS) to reduce the majority class\n",
    "rus = RandomUnderSampler(sampling_strategy=0.9, random_state=42)  # Reduce majority class to 90% of its original size\n",
    "X_resampled, y_resampled = rus.fit_resample(X_ros, y_ros)\n",
    "\n",
    "print(\"Class distribution after ROS + RUS:\", Counter(y_resampled))\n",
    "\n",
    "# Step 3: Training the Random Forest classifier\n",
    "rf = RandomForestClassifier(n_estimators=50, max_depth=10, random_state=42)\n",
    "rf.fit(X_resampled, y_resampled)\n",
    "\n",
    "# Step 4: Making predictions\n",
    "y_pred = rf.predict(X_test)\n",
    "\n",
    "# Step 5: Computing training and testing scores\n",
    "train_score = rf.score(X_resampled, y_resampled)\n",
    "test_score = rf.score(X_test, y_test)\n",
    "\n",
    "# Step 6: Evaluating model performance\n",
    "accuracy = accuracy_score(y_test, y_pred)\n",
    "print(f\"Accuracy: {accuracy:.4f}\")\n",
    "\n",
    "print(\"Classification Report:\")\n",
    "print(classification_report(y_test, y_pred))\n",
    "\n",
    "print(\"Confusion Matrix:\")\n",
    "print(confusion_matrix(y_test, y_pred))\n",
    "\n",
    "print(f\"Train Score: {train_score:.4f}\")\n",
    "print(f\"Test Score: {test_score:.4f}\")\n"
   ]
  },
  {
   "cell_type": "code",
   "execution_count": 41,
   "metadata": {},
   "outputs": [
    {
     "name": "stdout",
     "output_type": "stream",
     "text": [
      "AUC Score: 0.8976\n"
     ]
    },
    {
     "data": {
      "image/png": "[encoded data removed]",
      "text/plain": [
       "<Figure size 576x432 with 1 Axes>"
      ]
     },
     "metadata": {
      "needs_background": "light"
     },
     "output_type": "display_data"
    }
   ],
   "source": [
    "# Plotting ROC Curve\n",
    "# Get predicted probabilities for the positive class (class 1)\n",
    "y_probs = rf.predict_proba(X_test)[:, 1]  # Get probabilities for class 1\n",
    "\n",
    "# Compute AUC score\n",
    "auc_score = roc_auc_score(y_test, y_probs)\n",
    "print(f\"AUC Score: {auc_score:.4f}\")\n",
    "\n",
    "# Step 3: Plot ROC Curve\n",
    "fpr, tpr, _ = roc_curve(y_test, y_probs)\n",
    "\n",
    "plt.figure(figsize=(8, 6))\n",
    "plt.plot(fpr, tpr, label=f'Random Forest (AUC = {auc_score:.4f})', color='blue')\n",
    "plt.plot([0, 1], [0, 1], linestyle='--', color='gray')  \n",
    "plt.xlabel('False Positive')\n",
    "plt.ylabel('True Positive Rate')\n",
    "plt.title('ROC Curve')\n",
    "plt.legend()\n",
    "plt.show()\n"
   ]
  },
  {
   "cell_type": "markdown",
   "metadata": {},
   "source": [
    "### Interpretation of the Random Forest Model Metrics\n",
    "\n",
    "#### Class Distribution After Resampling\n",
    "- **Before ROS + RUS:** Imbalance existed with fewer churn cases (Class 1).  \n",
    "- **After ROS (Random Over-Sampling):** Increased minority class (churn) to **80%** of the majority.  \n",
    "  - `Counter({0: 2280, 1: 1824})`\n",
    "- **After RUS (Random Under-Sampling):** Reduced majority class (non-churn) to **90%** of its original size.  \n",
    "  - `Counter({0: 2026, 1: 1824})`\n",
    "- **Impact:** The dataset is now more balanced, allowing the model to better learn from churn cases.\n",
    "\n",
    "---\n",
    "\n",
    "#### Model Performance (Random Forest with 50 trees, max depth = 10)\n",
    "- **Train Score:** **97.53%** (good fit, but slightly high—possible overfitting)  \n",
    "- **Test Score:** **91.45%** (strong generalization ability)\n",
    "\n",
    "##### Accuracy:  91.45%\n",
    "- This means **91.45% of customers are correctly classified as churn or non-churn**.  \n",
    "- High accuracy suggests the model is well-tuned.\n",
    "\n",
    "##### Precision & Recall Breakdown \n",
    "\n",
    "- **Precision for Churn (70%)**  \n",
    "  - When the model predicts a customer will churn, it is correct **70%** of the time.\n",
    "  - Some false positives exist (non-churn customers misclassified as churn).\n",
    "  \n",
    "- **Recall for Churn (75%)**  \n",
    "  - The model identifies **75%** of actual churners.\n",
    "  - **It misses 25% of true churners**\n",
    "\n"
   ]
  },
  {
   "cell_type": "code",
   "execution_count": 42,
   "metadata": {
    "scrolled": true
   },
   "outputs": [
    {
     "name": "stdout",
     "output_type": "stream",
     "text": [
      "Confusion Matrix (Raw Values):\n",
      "[[538  32]\n",
      " [ 24  73]]\n"
     ]
    },
    {
     "data": {
      "image/png": "[encoded data removed]",
      "text/plain": [
       "<Figure size 432x360 with 2 Axes>"
      ]
     },
     "metadata": {
      "needs_background": "light"
     },
     "output_type": "display_data"
    }
   ],
   "source": [
    "# Generate confusion matrix\n",
    "cm = confusion_matrix(y_test, y_pred)\n",
    "\n",
    "# Print raw confusion matrix\n",
    "print(\"Confusion Matrix (Raw Values):\")\n",
    "print(cm)\n",
    "\n",
    "# Plot confusion matrix using Seaborn heatmap\n",
    "plt.figure(figsize=(6, 5))\n",
    "sns.heatmap(cm, annot=True, fmt='d', cmap='Blues', xticklabels=[\"No Churn\", \"Churn\"], yticklabels=[\"No Churn\", \"Churn\"])\n",
    "plt.xlabel(\"Predicted Label\")\n",
    "plt.ylabel(\"True Label\")\n",
    "plt.title(\"Confusion Matrix\")\n",
    "plt.show()\n"
   ]
  },
  {
   "cell_type": "markdown",
   "metadata": {},
   "source": [
    "##### Confusion Matrix\n",
    "\n",
    "- **True Positives (73 customers):**  \n",
    "  - These customers were **Correctly classified as True churners**.  \n",
    "\n",
    "\n",
    "- **True Negatives (538 customers):**  \n",
    "  - These customers were **Correctly classified as Not churners**.  \n",
    "\n",
    "\n",
    "- **False Positives (32 customers):**  \n",
    "  - These customers were **wrongly classified as churners instead of Not churners**.  \n",
    "\n",
    "\n",
    "- **False Negatives (24 customers):**  \n",
    "  - These **actual churners were missed.**\n",
    "\n",
    "\n"
   ]
  },
  {
   "cell_type": "markdown",
   "metadata": {},
   "source": [
    "## 5. Evaluation"
   ]
  },
  {
   "cell_type": "code",
   "execution_count": 43,
   "metadata": {},
   "outputs": [
    {
     "data": {
      "image/png": "[encoded data removed]",
      "text/plain": [
       "<Figure size 576x432 with 1 Axes>"
      ]
     },
     "metadata": {
      "needs_background": "light"
     },
     "output_type": "display_data"
    }
   ],
   "source": [
    "# Initialize classifiers and resampling techniques\n",
    "classifiers = {\n",
    "    \"Logistic Regression\": {\n",
    "        \"model\": LogisticRegression(random_state=42),\n",
    "        \"resampler\": SMOTE(random_state=42)\n",
    "    },\n",
    "    \"Decision Tree\": {\n",
    "        \"model\": DecisionTreeClassifier(random_state=42),\n",
    "        \"grid_search\": {\n",
    "            \"param_grid\": {\n",
    "                \"max_depth\": [3, 5, 10],\n",
    "                \"min_samples_split\": [2, 5, 10],\n",
    "                \"min_samples_leaf\": [1, 2, 5],\n",
    "                \"criterion\": [\"gini\", \"entropy\"]\n",
    "            },\n",
    "            \"cv\": 5,\n",
    "            \"scoring\": \"accuracy\"\n",
    "        }\n",
    "    },\n",
    "    \"Random Forest\": {\n",
    "        \"model\": RandomForestClassifier(n_estimators=50, max_depth=10, random_state=42),\n",
    "        \"resampler\": (RandomOverSampler(sampling_strategy=0.8, random_state=42), \n",
    "                      RandomUnderSampler(sampling_strategy=0.9, random_state=42))\n",
    "    }\n",
    "}\n",
    "\n",
    "# Plot ROC curves\n",
    "plt.figure(figsize=(8, 6))\n",
    "\n",
    "for name, config in classifiers.items():\n",
    "    # Resampling if applicable\n",
    "    if \"resampler\" in config:\n",
    "        if isinstance(config[\"resampler\"], tuple):  # ROS + RUS for Random Forest\n",
    "            X_resampled, y_resampled = config[\"resampler\"][0].fit_resample(X_train, y_train)\n",
    "            X_resampled, y_resampled = config[\"resampler\"][1].fit_resample(X_resampled, y_resampled)\n",
    "        else:\n",
    "            X_resampled, y_resampled = config[\"resampler\"].fit_resample(X_train_sc, y_train)\n",
    "    else:\n",
    "        X_resampled, y_resampled = X_train, y_train\n",
    "    \n",
    "    # Grid search for Decision Tree\n",
    "    if \"grid_search\" in config:\n",
    "        grid_search = GridSearchCV(config[\"model\"], config[\"grid_search\"][\"param_grid\"], \n",
    "                                   cv=config[\"grid_search\"][\"cv\"], scoring=config[\"grid_search\"][\"scoring\"])\n",
    "        grid_search.fit(X_train, y_train)\n",
    "        model = grid_search.best_estimator_\n",
    "    else:\n",
    "        model = config[\"model\"]\n",
    "        model.fit(X_resampled, y_resampled)\n",
    "\n",
    "    # Predict probabilities for ROC Curve\n",
    "    y_probs = model.predict_proba(X_test_sc if name == \"Logistic Regression\" else X_test)[:, 1]\n",
    "    \n",
    "    # Compute ROC curve\n",
    "    fpr, tpr, _ = roc_curve(y_test, y_probs)\n",
    "    auc_score = roc_auc_score(y_test, y_probs)\n",
    "    \n",
    "    # Plot ROC curve\n",
    "    plt.plot(fpr, tpr, label=f'{name} (AUC = {auc_score:.2f})')\n",
    "\n",
    "# Plot random classifier line\n",
    "plt.plot([0, 1], [0, 1], linestyle='--', color='gray')\n",
    "plt.xlabel('False Positive Rate')\n",
    "plt.ylabel('True Positive Rate')\n",
    "plt.title('ROC Curves for Different Models')\n",
    "plt.legend()\n",
    "plt.show()\n"
   ]
  },
  {
   "cell_type": "markdown",
   "metadata": {},
   "source": [
    "## DataFrame compare the models classification metrics"
   ]
  },
  {
   "cell_type": "code",
   "execution_count": 44,
   "metadata": {},
   "outputs": [
    {
     "data": {
      "text/html": [
       "<div>\n",
       "<style scoped>\n",
       "    .dataframe tbody tr th:only-of-type {\n",
       "        vertical-align: middle;\n",
       "    }\n",
       "\n",
       "    .dataframe tbody tr th {\n",
       "        vertical-align: top;\n",
       "    }\n",
       "\n",
       "    .dataframe thead th {\n",
       "        text-align: right;\n",
       "    }\n",
       "</style>\n",
       "<table border=\"1\" class=\"dataframe\">\n",
       "  <thead>\n",
       "    <tr style=\"text-align: right;\">\n",
       "      <th></th>\n",
       "      <th>Model</th>\n",
       "      <th>Accuracy(Test set)</th>\n",
       "      <th>Precision (Class 1)</th>\n",
       "      <th>Recall (Class 1)</th>\n",
       "      <th>F1-Score (Class 1)</th>\n",
       "      <th>ROC AUC Score</th>\n",
       "      <th>False Positives</th>\n",
       "      <th>False Negatives</th>\n",
       "    </tr>\n",
       "  </thead>\n",
       "  <tbody>\n",
       "    <tr>\n",
       "      <th>0</th>\n",
       "      <td>Logistic Regression (SMOTE)</td>\n",
       "      <td>0.76</td>\n",
       "      <td>0.35</td>\n",
       "      <td>0.72</td>\n",
       "      <td>0.47</td>\n",
       "      <td>0.8095</td>\n",
       "      <td>132</td>\n",
       "      <td>27</td>\n",
       "    </tr>\n",
       "    <tr>\n",
       "      <th>1</th>\n",
       "      <td>Decision Tree (Grid Search)</td>\n",
       "      <td>0.94</td>\n",
       "      <td>0.86</td>\n",
       "      <td>0.68</td>\n",
       "      <td>0.76</td>\n",
       "      <td>0.8300</td>\n",
       "      <td>11</td>\n",
       "      <td>31</td>\n",
       "    </tr>\n",
       "    <tr>\n",
       "      <th>2</th>\n",
       "      <td>Random Forest(ROS &amp; RUS)</td>\n",
       "      <td>0.92</td>\n",
       "      <td>0.70</td>\n",
       "      <td>0.75</td>\n",
       "      <td>0.72</td>\n",
       "      <td>0.8976</td>\n",
       "      <td>32</td>\n",
       "      <td>24</td>\n",
       "    </tr>\n",
       "  </tbody>\n",
       "</table>\n",
       "</div>"
      ],
      "text/plain": [
       "                         Model  Accuracy(Test set)  Precision (Class 1)  \\\n",
       "0  Logistic Regression (SMOTE)                0.76                 0.35   \n",
       "1  Decision Tree (Grid Search)                0.94                 0.86   \n",
       "2     Random Forest(ROS & RUS)                0.92                 0.70   \n",
       "\n",
       "   Recall (Class 1)  F1-Score (Class 1)  ROC AUC Score  False Positives  \\\n",
       "0              0.72                0.47         0.8095              132   \n",
       "1              0.68                0.76         0.8300               11   \n",
       "2              0.75                0.72         0.8976               32   \n",
       "\n",
       "   False Negatives  \n",
       "0               27  \n",
       "1               31  \n",
       "2               24  "
      ]
     },
     "execution_count": 44,
     "metadata": {},
     "output_type": "execute_result"
    }
   ],
   "source": [
    "# Model performance metrics\n",
    "data = {\n",
    "    \"Model\": [\n",
    "        \"Logistic Regression (SMOTE)\",\n",
    "        \"Decision Tree (Grid Search)\",\n",
    "        \"Random Forest(ROS & RUS)\",\n",
    "        \n",
    "    ],\n",
    "    \"Accuracy(Test set)\": [0.76, 0.94, 0.92],\n",
    "    \"Precision (Class 1)\": [0.35, 0.86, 0.70],\n",
    "    \"Recall (Class 1)\": [0.72, 0.68, 0.75],\n",
    "    \"F1-Score (Class 1)\": [0.47, 0.76, 0.72],\n",
    "    \"ROC AUC Score\": [0.8095, 0.83, 0.8976],\n",
    "    \"False Positives\": [132, 11, 32],\n",
    "    \"False Negatives\": [27, 31, 24]\n",
    "}\n",
    "\n",
    "# Creating a DataFrame\n",
    "df_results = pd.DataFrame(data)\n",
    "\n",
    "# Displaying the DataFrame\n",
    "df_results\n"
   ]
  },
  {
   "cell_type": "markdown",
   "metadata": {},
   "source": [
    "\n",
    "### Interpretation:\n",
    "- **Logistic Regression (SMOTE)**: Has the lowest precision(35%) and accuracy but achieves high recall(72%), meaning it identifies more actual churners at the cost of more false positives.\n",
    "\n",
    "- **Decision Tree (Grid Search)**: Has the highest accuracy of the Test set and precision(86%) but lower recall, meaning it misses more actual churners.\n",
    "\n",
    "- **Random Forest (ROS & RUS)**: Balances precision and recall fairly well with a high AUC score (0.8976), meaning it has a strong overall classification ability.\n",
    "\n",
    "\n",
    "### Model to consider:\n",
    "\n",
    "- Recommended Model: **Random Forest** - Since my goal is to find a good balance between **recall (identifying actual churners)** and **precision (reducing false alarms)**."
   ]
  },
  {
   "cell_type": "markdown",
   "metadata": {},
   "source": [
    "## Feature importance of the best model"
   ]
  },
  {
   "cell_type": "code",
   "execution_count": 45,
   "metadata": {
    "scrolled": true
   },
   "outputs": [
    {
     "data": {
      "image/png": "[encoded data removed]",
      "text/plain": [
       "<Figure size 864x432 with 1 Axes>"
      ]
     },
     "metadata": {
      "needs_background": "light"
     },
     "output_type": "display_data"
    }
   ],
   "source": [
    "# Get feature importance scores\n",
    "feature_importance = rf.feature_importances_\n",
    "\n",
    "# Create a DataFrame for visualization\n",
    "features_df = pd.DataFrame({'Feature': X_train.columns, 'Importance': feature_importance})\n",
    "\n",
    "# Sort features by importance (descending)\n",
    "features_df = features_df.sort_values(by='Importance', ascending=False)\n",
    "\n",
    "# Plot feature importance\n",
    "plt.figure(figsize=(12, 6))\n",
    "sns.barplot(x='Importance', y='Feature', data=features_df, palette='viridis')\n",
    "\n",
    "# Add labels and title\n",
    "plt.xlabel('Feature Importance Score')\n",
    "plt.ylabel('Feature Name')\n",
    "plt.title('Feature Importance for Customer Churn Prediction')\n",
    "plt.show()\n"
   ]
  },
  {
   "cell_type": "markdown",
   "metadata": {},
   "source": [
    "## Conclusions\n",
    "\n"
   ]
  },
  {
   "cell_type": "markdown",
   "metadata": {},
   "source": [
    "I recommend that Syriatel adopt the Random Forest Classifier as the primary model for predicting customer churn. This model demonstrates a superior ROC curve and strong overall performance in terms of accuracy, F1-score, recall, and precision on the test set, making it highly effective for distinguishing between customers who are likely to churn and those who are not.\n",
    "\n",
    "### Recommendations for SyriaTel:\n",
    "- **Improve Customer Support**: Since customer service calls are a top factor, reducing response times and improving service quality can enhance customer retention.\n",
    "- **Review Pricing Plans**: The strong influence of total day, evening, and international charges suggests that pricing might be a churn driver. Offering better rates or more flexible plans could help.\n",
    "- **Personalized Plan Recommendations**: If customers with high usage in specific categories (e.g., international calls) tend to churn, proactive personalized plan recommendations could help keep them.i.e. Offering a Bonus of extra calls when a certain target of international calls is reached by the customer.\n",
    "- **Loyalty Programs**: Target high-usage customers with discounts or rewards to keep them engaged fully.\n",
    "\n"
   ]
  }
 ],
 "metadata": {
  "kernelspec": {
   "display_name": "Python (learn-env)",
   "language": "python",
   "name": "learn-env"
  },
  "language_info": {
   "codemirror_mode": {
    "name": "ipython",
    "version": 3
   },
   "file_extension": ".py",
   "mimetype": "text/x-python",
   "name": "python",
   "nbconvert_exporter": "python",
   "pygments_lexer": "ipython3",
   "version": "3.8.5"
  }
 },
 "nbformat": 4,
 "nbformat_minor": 4
}
